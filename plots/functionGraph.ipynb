{
 "cells": [
  {
   "cell_type": "markdown",
   "metadata": {},
   "source": [
    "# Grafico delle dipendenze tra funzioni di refactoring.jl"
   ]
  },
  {
   "cell_type": "code",
   "execution_count": null,
   "metadata": {},
   "outputs": [],
   "source": [
    "using Pkg\n",
    "Pkg.activate(\".\")\n",
    "Pkg.add(\"Vega\")\n",
    "Pkg.add(\"VegaDatasets\")"
   ]
  },
  {
   "cell_type": "markdown",
   "metadata": {},
   "source": [
    "### grafico con le funzioni iniziali che coinvolgono spaceindex"
   ]
  },
  {
   "cell_type": "code",
   "execution_count": 1,
   "metadata": {},
   "outputs": [
    {
     "data": {
      "application/vnd.vega.v5+json": {
       "data": [
        {
         "name": "nodes",
         "transform": [
          {
           "as": "angle",
           "expr": "atan2(datum.y, datum.x)",
           "type": "formula"
          },
          {
           "as": "radius",
           "expr": "sqrt(datum.y * datum.y + datum.x * datum.x)",
           "type": "formula"
          }
         ],
         "values": [
          {
           "color": "#f00",
           "id": 1,
           "name": "spaceindex",
           "x": 360,
           "y": 360
          },
          {
           "color": "#f00",
           "id": 2,
           "name": "boundingbox",
           "x": 360,
           "y": 200
          },
          {
           "color": "#f00",
           "id": 3,
           "name": "coordintervals",
           "x": 360,
           "y": 520
          },
          {
           "color": "#f00",
           "id": 4,
           "name": "boxcovering",
           "x": 500,
           "y": 360
          },
          {
           "color": "#0f0",
           "id": 5,
           "name": "fragmentlines",
           "x": 150,
           "y": 320
          },
          {
           "color": "#0f0",
           "id": 6,
           "name": "decomposition",
           "x": 180,
           "y": 500
          },
          {
           "color": "#00f",
           "id": 7,
           "name": "setdiff",
           "x": 420,
           "y": 140
          },
          {
           "color": "#00f",
           "id": 8,
           "name": "hcat",
           "x": 470,
           "y": 160
          },
          {
           "color": "#00f",
           "id": 9,
           "name": "zip",
           "x": 520,
           "y": 180
          },
          {
           "color": "#00f",
           "id": 10,
           "name": "size",
           "x": 530,
           "y": 220
          },
          {
           "color": "#00f",
           "id": 11,
           "name": "intersect",
           "x": 580,
           "y": 250
          },
          {
           "color": "#00f",
           "id": 12,
           "name": "tuple",
           "x": 520,
           "y": 300
          },
          {
           "color": "#00f",
           "id": 13,
           "name": "length",
           "x": 600,
           "y": 320
          },
          {
           "color": "#00f",
           "id": 14,
           "name": "enumerate",
           "x": 430,
           "y": 440
          },
          {
           "color": "#00f",
           "id": 15,
           "name": "append!",
           "x": 600,
           "y": 440
          },
          {
           "color": "#00f",
           "id": 16,
           "name": "haskey",
           "x": 430,
           "y": 580
          },
          {
           "color": "#00f",
           "id": 17,
           "name": "push!",
           "x": 290,
           "y": 580
          },
          {
           "color": "#00f",
           "id": 18,
           "name": "mapslices",
           "x": 300,
           "y": 140
          },
          {
           "color": "#00f",
           "id": 19,
           "name": "min",
           "x": 230,
           "y": 180
          },
          {
           "color": "#00f",
           "id": 20,
           "name": "max",
           "x": 250,
           "y": 240
          }
         ]
        },
        {
         "name": "edges",
         "transform": [
          {
           "as": [
            "source",
            "target"
           ],
           "fields": [
            "s",
            "t"
           ],
           "from": "nodes",
           "key": "id",
           "type": "lookup"
          },
          {
           "shape": "line",
           "type": "linkpath"
          }
         ],
         "values": [
          {
           "s": 1,
           "t": 2
          },
          {
           "s": 1,
           "t": 7
          },
          {
           "s": 1,
           "t": 8
          },
          {
           "s": 1,
           "t": 9
          },
          {
           "s": 1,
           "t": 10
          },
          {
           "s": 1,
           "t": 11
          },
          {
           "s": 1,
           "t": 12
          },
          {
           "s": 1,
           "t": 13
          },
          {
           "s": 1,
           "t": 3
          },
          {
           "s": 1,
           "t": 4
          },
          {
           "s": 2,
           "t": 18
          },
          {
           "s": 2,
           "t": 19
          },
          {
           "s": 2,
           "t": 20
          },
          {
           "s": 3,
           "t": 14
          },
          {
           "s": 3,
           "t": 16
          },
          {
           "s": 3,
           "t": 17
          },
          {
           "s": 4,
           "t": 11
          },
          {
           "s": 4,
           "t": 12
          },
          {
           "s": 4,
           "t": 13
          },
          {
           "s": 4,
           "t": 14
          },
          {
           "s": 4,
           "t": 15
          },
          {
           "s": 5,
           "t": 1
          },
          {
           "s": 6,
           "t": 1
          }
         ]
        },
        {
         "name": "arrows",
         "values": [
          {
           "angle": 0,
           "id": 1,
           "x": 360,
           "y": 215
          },
          {
           "angle": 15,
           "id": 2,
           "x": 416,
           "y": 154
          },
          {
           "angle": 25,
           "id": 3,
           "x": 463,
           "y": 172
          },
          {
           "angle": 37,
           "id": 4,
           "x": 511,
           "y": 191
          },
          {
           "angle": 45,
           "id": 5,
           "x": 520,
           "y": 230
          },
          {
           "angle": 60,
           "id": 6,
           "x": 567,
           "y": 255
          },
          {
           "angle": 72,
           "id": 7,
           "x": 505,
           "y": 305
          },
          {
           "angle": 82,
           "id": 8,
           "x": 585,
           "y": 322
          },
          {
           "angle": 90,
           "id": 9,
           "x": 485,
           "y": 360
          },
          {
           "angle": 180,
           "id": 10,
           "x": 360,
           "y": 505
          },
          {
           "angle": 47,
           "id": 11,
           "x": 348,
           "y": 369
          },
          {
           "angle": 99,
           "id": 12,
           "x": 345,
           "y": 357
          },
          {
           "angle": -40,
           "id": 13,
           "x": 310,
           "y": 150
          },
          {
           "angle": -80,
           "id": 14,
           "x": 245,
           "y": 183
          },
          {
           "angle": -115,
           "id": 15,
           "x": 263,
           "y": 234
          },
          {
           "angle": 30,
           "id": 16,
           "x": 573,
           "y": 261
          },
          {
           "angle": 12,
           "id": 17,
           "x": 515,
           "y": 315
          },
          {
           "angle": 75,
           "id": 18,
           "x": 587,
           "y": 326
          },
          {
           "angle": 135,
           "id": 19,
           "x": 589,
           "y": 429
          },
          {
           "angle": -135,
           "id": 20,
           "x": 440,
           "y": 430
          },
          {
           "angle": 42,
           "id": 21,
           "x": 420,
           "y": 450
          },
          {
           "angle": 135,
           "id": 22,
           "x": 419,
           "y": 569
          },
          {
           "angle": -135,
           "id": 23,
           "x": 301,
           "y": 569
          }
         ]
        }
       ],
       "height": 720,
       "marks": [
        {
         "encode": {
          "update": {
           "path": {
            "field": "path"
           },
           "stroke": {
            "value": "#ccc"
           }
          }
         },
         "from": {
          "data": "edges"
         },
         "type": "path"
        },
        {
         "encode": {
          "enter": {
           "fill": {
            "value": "#ccc"
           },
           "shape": {
            "value": "triangle-up"
           },
           "size": {
            "value": 200
           },
           "stroke": {
            "value": "#555"
           },
           "strokeWidth": {
            "value": 1
           }
          },
          "update": {
           "angle": {
            "field": "angle"
           },
           "shape": {
            "value": "triangle-up"
           },
           "x": {
            "field": "x"
           },
           "y": {
            "field": "y"
           }
          }
         },
         "from": {
          "data": "arrows"
         },
         "type": "symbol"
        },
        {
         "encode": {
          "enter": {
           "size": {
            "value": 300
           },
           "stroke": {
            "value": "#fff"
           }
          },
          "update": {
           "fill": {
            "field": "color"
           },
           "x": {
            "field": "x"
           },
           "y": {
            "field": "y"
           }
          }
         },
         "from": {
          "data": "nodes"
         },
         "type": "symbol"
        },
        {
         "encode": {
          "enter": {
           "baseline": {
            "value": "middle"
           },
           "fontSize": {
            "value": 15
           },
           "text": {
            "field": "name"
           }
          },
          "update": {
           "align": {
            "signal": "datum.children ? 'right' : 'left'"
           },
           "dx": {
            "value": 12
           },
           "dy": {
            "value": -10
           },
           "x": {
            "field": "x"
           },
           "y": {
            "field": "y"
           }
          }
         },
         "from": {
          "data": "nodes"
         },
         "type": "text"
        }
       ],
       "padding": 5,
       "width": 720
      },
      "image/png": "[encoded data removed]",
      "image/svg+xml": [
       "<?xml version=\"1.0\" encoding=\"utf-8\"?>\n",
       "<!DOCTYPE svg PUBLIC \"-//W3C//DTD SVG 1.1//EN\" \"http://www.w3.org/Graphics/SVG/1.1/DTD/svg11.dtd\">\n",
       "<svg class=\"marks\" width=\"730\" height=\"730\" viewBox=\"0 0 730 730\" version=\"1.1\" xmlns=\"http://www.w3.org/2000/svg\" xmlns:xlink=\"http://www.w3.org/1999/xlink\"><g fill=\"none\" stroke-miterlimit=\"10\" transform=\"translate(5,5)\"><g class=\"mark-group role-frame root\" role=\"graphics-object\" aria-roledescription=\"group mark container\"><g transform=\"translate(0,0)\"><path class=\"background\" aria-hidden=\"true\" d=\"M0,0h720v720h-720Z\"></path><g><g class=\"mark-path role-mark\" role=\"graphics-symbol\" aria-roledescription=\"path mark container\"><path transform=\"translate(0,0)\" d=\"M360,360L360,200\" stroke=\"#ccc\"></path><path transform=\"translate(0,0)\" d=\"M360,360L420,140\" stroke=\"#ccc\"></path><path transform=\"translate(0,0)\" d=\"M360,360L470,160\" stroke=\"#ccc\"></path><path transform=\"translate(0,0)\" d=\"M360,360L520,180\" stroke=\"#ccc\"></path><path transform=\"translate(0,0)\" d=\"M360,360L530,220\" stroke=\"#ccc\"></path><path transform=\"translate(0,0)\" d=\"M360,360L580,250\" stroke=\"#ccc\"></path><path transform=\"translate(0,0)\" d=\"M360,360L520,300\" stroke=\"#ccc\"></path><path transform=\"translate(0,0)\" d=\"M360,360L600,320\" stroke=\"#ccc\"></path><path transform=\"translate(0,0)\" d=\"M360,360L360,520\" stroke=\"#ccc\"></path><path transform=\"translate(0,0)\" d=\"M360,360L500,360\" stroke=\"#ccc\"></path><path transform=\"translate(0,0)\" d=\"M360,200L300,140\" stroke=\"#ccc\"></path><path transform=\"translate(0,0)\" d=\"M360,200L230,180\" stroke=\"#ccc\"></path><path transform=\"translate(0,0)\" d=\"M360,200L250,240\" stroke=\"#ccc\"></path><path transform=\"translate(0,0)\" d=\"M360,520L430,440\" stroke=\"#ccc\"></path><path transform=\"translate(0,0)\" d=\"M360,520L430,580\" stroke=\"#ccc\"></path><path transform=\"translate(0,0)\" d=\"M360,520L290,580\" stroke=\"#ccc\"></path><path transform=\"translate(0,0)\" d=\"M500,360L580,250\" stroke=\"#ccc\"></path><path transform=\"translate(0,0)\" d=\"M500,360L520,300\" stroke=\"#ccc\"></path><path transform=\"translate(0,0)\" d=\"M500,360L600,320\" stroke=\"#ccc\"></path><path transform=\"translate(0,0)\" d=\"M500,360L430,440\" stroke=\"#ccc\"></path><path transform=\"translate(0,0)\" d=\"M500,360L600,440\" stroke=\"#ccc\"></path><path transform=\"translate(0,0)\" d=\"M150,320L360,360\" stroke=\"#ccc\"></path><path transform=\"translate(0,0)\" d=\"M180,500L360,360\" stroke=\"#ccc\"></path></g><g class=\"mark-symbol role-mark\" role=\"graphics-symbol\" aria-roledescription=\"symbol mark container\"><path transform=\"translate(360,215)\" d=\"M0,-6.123724356957945L-7.0710678118654755,6.123724356957945L7.0710678118654755,6.123724356957945Z\" fill=\"#ccc\" stroke=\"#555\" stroke-width=\"1\"></path><path transform=\"translate(416,154) rotate(15)\" d=\"M0,-6.123724356957945L-7.0710678118654755,6.123724356957945L7.0710678118654755,6.123724356957945Z\" fill=\"#ccc\" stroke=\"#555\" stroke-width=\"1\"></path><path transform=\"translate(463,172) rotate(25)\" d=\"M0,-6.123724356957945L-7.0710678118654755,6.123724356957945L7.0710678118654755,6.123724356957945Z\" fill=\"#ccc\" stroke=\"#555\" stroke-width=\"1\"></path><path transform=\"translate(511,191) rotate(37)\" d=\"M0,-6.123724356957945L-7.0710678118654755,6.123724356957945L7.0710678118654755,6.123724356957945Z\" fill=\"#ccc\" stroke=\"#555\" stroke-width=\"1\"></path><path transform=\"translate(520,230) rotate(45)\" d=\"M0,-6.123724356957945L-7.0710678118654755,6.123724356957945L7.0710678118654755,6.123724356957945Z\" fill=\"#ccc\" stroke=\"#555\" stroke-width=\"1\"></path><path transform=\"translate(567,255) rotate(60)\" d=\"M0,-6.123724356957945L-7.0710678118654755,6.123724356957945L7.0710678118654755,6.123724356957945Z\" fill=\"#ccc\" stroke=\"#555\" stroke-width=\"1\"></path><path transform=\"translate(505,305) rotate(72)\" d=\"M0,-6.123724356957945L-7.0710678118654755,6.123724356957945L7.0710678118654755,6.123724356957945Z\" fill=\"#ccc\" stroke=\"#555\" stroke-width=\"1\"></path><path transform=\"translate(585,322) rotate(82)\" d=\"M0,-6.123724356957945L-7.0710678118654755,6.123724356957945L7.0710678118654755,6.123724356957945Z\" fill=\"#ccc\" stroke=\"#555\" stroke-width=\"1\"></path><path transform=\"translate(485,360) rotate(90)\" d=\"M0,-6.123724356957945L-7.0710678118654755,6.123724356957945L7.0710678118654755,6.123724356957945Z\" fill=\"#ccc\" stroke=\"#555\" stroke-width=\"1\"></path><path transform=\"translate(360,505) rotate(180)\" d=\"M0,-6.123724356957945L-7.0710678118654755,6.123724356957945L7.0710678118654755,6.123724356957945Z\" fill=\"#ccc\" stroke=\"#555\" stroke-width=\"1\"></path><path transform=\"translate(348,369) rotate(47)\" d=\"M0,-6.123724356957945L-7.0710678118654755,6.123724356957945L7.0710678118654755,6.123724356957945Z\" fill=\"#ccc\" stroke=\"#555\" stroke-width=\"1\"></path><path transform=\"translate(345,357) rotate(99)\" d=\"M0,-6.123724356957945L-7.0710678118654755,6.123724356957945L7.0710678118654755,6.123724356957945Z\" fill=\"#ccc\" stroke=\"#555\" stroke-width=\"1\"></path><path transform=\"translate(310,150) rotate(-40)\" d=\"M0,-6.123724356957945L-7.0710678118654755,6.123724356957945L7.0710678118654755,6.123724356957945Z\" fill=\"#ccc\" stroke=\"#555\" stroke-width=\"1\"></path><path transform=\"translate(245,183) rotate(-80)\" d=\"M0,-6.123724356957945L-7.0710678118654755,6.123724356957945L7.0710678118654755,6.123724356957945Z\" fill=\"#ccc\" stroke=\"#555\" stroke-width=\"1\"></path><path transform=\"translate(263,234) rotate(-115)\" d=\"M0,-6.123724356957945L-7.0710678118654755,6.123724356957945L7.0710678118654755,6.123724356957945Z\" fill=\"#ccc\" stroke=\"#555\" stroke-width=\"1\"></path><path transform=\"translate(573,261) rotate(30)\" d=\"M0,-6.123724356957945L-7.0710678118654755,6.123724356957945L7.0710678118654755,6.123724356957945Z\" fill=\"#ccc\" stroke=\"#555\" stroke-width=\"1\"></path><path transform=\"translate(515,315) rotate(12)\" d=\"M0,-6.123724356957945L-7.0710678118654755,6.123724356957945L7.0710678118654755,6.123724356957945Z\" fill=\"#ccc\" stroke=\"#555\" stroke-width=\"1\"></path><path transform=\"translate(587,326) rotate(75)\" d=\"M0,-6.123724356957945L-7.0710678118654755,6.123724356957945L7.0710678118654755,6.123724356957945Z\" fill=\"#ccc\" stroke=\"#555\" stroke-width=\"1\"></path><path transform=\"translate(589,429) rotate(135)\" d=\"M0,-6.123724356957945L-7.0710678118654755,6.123724356957945L7.0710678118654755,6.123724356957945Z\" fill=\"#ccc\" stroke=\"#555\" stroke-width=\"1\"></path><path transform=\"translate(440,430) rotate(-135)\" d=\"M0,-6.123724356957945L-7.0710678118654755,6.123724356957945L7.0710678118654755,6.123724356957945Z\" fill=\"#ccc\" stroke=\"#555\" stroke-width=\"1\"></path><path transform=\"translate(420,450) rotate(42)\" d=\"M0,-6.123724356957945L-7.0710678118654755,6.123724356957945L7.0710678118654755,6.123724356957945Z\" fill=\"#ccc\" stroke=\"#555\" stroke-width=\"1\"></path><path transform=\"translate(419,569) rotate(135)\" d=\"M0,-6.123724356957945L-7.0710678118654755,6.123724356957945L7.0710678118654755,6.123724356957945Z\" fill=\"#ccc\" stroke=\"#555\" stroke-width=\"1\"></path><path transform=\"translate(301,569) rotate(-135)\" d=\"M0,-6.123724356957945L-7.0710678118654755,6.123724356957945L7.0710678118654755,6.123724356957945Z\" fill=\"#ccc\" stroke=\"#555\" stroke-width=\"1\"></path></g><g class=\"mark-symbol role-mark\" role=\"graphics-symbol\" aria-roledescription=\"symbol mark container\"><path transform=\"translate(360,360)\" d=\"M8.660254037844387,0A8.660254037844387,8.660254037844387,0,1,1,-8.660254037844387,0A8.660254037844387,8.660254037844387,0,1,1,8.660254037844387,0\" fill=\"#f00\" stroke=\"#fff\"></path><path transform=\"translate(360,200)\" d=\"M8.660254037844387,0A8.660254037844387,8.660254037844387,0,1,1,-8.660254037844387,0A8.660254037844387,8.660254037844387,0,1,1,8.660254037844387,0\" fill=\"#f00\" stroke=\"#fff\"></path><path transform=\"translate(360,520)\" d=\"M8.660254037844387,0A8.660254037844387,8.660254037844387,0,1,1,-8.660254037844387,0A8.660254037844387,8.660254037844387,0,1,1,8.660254037844387,0\" fill=\"#f00\" stroke=\"#fff\"></path><path transform=\"translate(500,360)\" d=\"M8.660254037844387,0A8.660254037844387,8.660254037844387,0,1,1,-8.660254037844387,0A8.660254037844387,8.660254037844387,0,1,1,8.660254037844387,0\" fill=\"#f00\" stroke=\"#fff\"></path><path transform=\"translate(150,320)\" d=\"M8.660254037844387,0A8.660254037844387,8.660254037844387,0,1,1,-8.660254037844387,0A8.660254037844387,8.660254037844387,0,1,1,8.660254037844387,0\" fill=\"#0f0\" stroke=\"#fff\"></path><path transform=\"translate(180,500)\" d=\"M8.660254037844387,0A8.660254037844387,8.660254037844387,0,1,1,-8.660254037844387,0A8.660254037844387,8.660254037844387,0,1,1,8.660254037844387,0\" fill=\"#0f0\" stroke=\"#fff\"></path><path transform=\"translate(420,140)\" d=\"M8.660254037844387,0A8.660254037844387,8.660254037844387,0,1,1,-8.660254037844387,0A8.660254037844387,8.660254037844387,0,1,1,8.660254037844387,0\" fill=\"#00f\" stroke=\"#fff\"></path><path transform=\"translate(470,160)\" d=\"M8.660254037844387,0A8.660254037844387,8.660254037844387,0,1,1,-8.660254037844387,0A8.660254037844387,8.660254037844387,0,1,1,8.660254037844387,0\" fill=\"#00f\" stroke=\"#fff\"></path><path transform=\"translate(520,180)\" d=\"M8.660254037844387,0A8.660254037844387,8.660254037844387,0,1,1,-8.660254037844387,0A8.660254037844387,8.660254037844387,0,1,1,8.660254037844387,0\" fill=\"#00f\" stroke=\"#fff\"></path><path transform=\"translate(530,220)\" d=\"M8.660254037844387,0A8.660254037844387,8.660254037844387,0,1,1,-8.660254037844387,0A8.660254037844387,8.660254037844387,0,1,1,8.660254037844387,0\" fill=\"#00f\" stroke=\"#fff\"></path><path transform=\"translate(580,250)\" d=\"M8.660254037844387,0A8.660254037844387,8.660254037844387,0,1,1,-8.660254037844387,0A8.660254037844387,8.660254037844387,0,1,1,8.660254037844387,0\" fill=\"#00f\" stroke=\"#fff\"></path><path transform=\"translate(520,300)\" d=\"M8.660254037844387,0A8.660254037844387,8.660254037844387,0,1,1,-8.660254037844387,0A8.660254037844387,8.660254037844387,0,1,1,8.660254037844387,0\" fill=\"#00f\" stroke=\"#fff\"></path><path transform=\"translate(600,320)\" d=\"M8.660254037844387,0A8.660254037844387,8.660254037844387,0,1,1,-8.660254037844387,0A8.660254037844387,8.660254037844387,0,1,1,8.660254037844387,0\" fill=\"#00f\" stroke=\"#fff\"></path><path transform=\"translate(430,440)\" d=\"M8.660254037844387,0A8.660254037844387,8.660254037844387,0,1,1,-8.660254037844387,0A8.660254037844387,8.660254037844387,0,1,1,8.660254037844387,0\" fill=\"#00f\" stroke=\"#fff\"></path><path transform=\"translate(600,440)\" d=\"M8.660254037844387,0A8.660254037844387,8.660254037844387,0,1,1,-8.660254037844387,0A8.660254037844387,8.660254037844387,0,1,1,8.660254037844387,0\" fill=\"#00f\" stroke=\"#fff\"></path><path transform=\"translate(430,580)\" d=\"M8.660254037844387,0A8.660254037844387,8.660254037844387,0,1,1,-8.660254037844387,0A8.660254037844387,8.660254037844387,0,1,1,8.660254037844387,0\" fill=\"#00f\" stroke=\"#fff\"></path><path transform=\"translate(290,580)\" d=\"M8.660254037844387,0A8.660254037844387,8.660254037844387,0,1,1,-8.660254037844387,0A8.660254037844387,8.660254037844387,0,1,1,8.660254037844387,0\" fill=\"#00f\" stroke=\"#fff\"></path><path transform=\"translate(300,140)\" d=\"M8.660254037844387,0A8.660254037844387,8.660254037844387,0,1,1,-8.660254037844387,0A8.660254037844387,8.660254037844387,0,1,1,8.660254037844387,0\" fill=\"#00f\" stroke=\"#fff\"></path><path transform=\"translate(230,180)\" d=\"M8.660254037844387,0A8.660254037844387,8.660254037844387,0,1,1,-8.660254037844387,0A8.660254037844387,8.660254037844387,0,1,1,8.660254037844387,0\" fill=\"#00f\" stroke=\"#fff\"></path><path transform=\"translate(250,240)\" d=\"M8.660254037844387,0A8.660254037844387,8.660254037844387,0,1,1,-8.660254037844387,0A8.660254037844387,8.660254037844387,0,1,1,8.660254037844387,0\" fill=\"#00f\" stroke=\"#fff\"></path></g><g class=\"mark-text role-mark\" role=\"graphics-object\" aria-roledescription=\"text mark container\"><text text-anchor=\"start\" transform=\"translate(372,355)\" font-family=\"sans-serif\" font-size=\"15px\" fill=\"#000\">spaceindex</text><text text-anchor=\"start\" transform=\"translate(372,195)\" font-family=\"sans-serif\" font-size=\"15px\" fill=\"#000\">boundingbox</text><text text-anchor=\"start\" transform=\"translate(372,515)\" font-family=\"sans-serif\" font-size=\"15px\" fill=\"#000\">coordintervals</text><text text-anchor=\"start\" transform=\"translate(512,355)\" font-family=\"sans-serif\" font-size=\"15px\" fill=\"#000\">boxcovering</text><text text-anchor=\"start\" transform=\"translate(162,315)\" font-family=\"sans-serif\" font-size=\"15px\" fill=\"#000\">fragmentlines</text><text text-anchor=\"start\" transform=\"translate(192,495)\" font-family=\"sans-serif\" font-size=\"15px\" fill=\"#000\">decomposition</text><text text-anchor=\"start\" transform=\"translate(432,135)\" font-family=\"sans-serif\" font-size=\"15px\" fill=\"#000\">setdiff</text><text text-anchor=\"start\" transform=\"translate(482,155)\" font-family=\"sans-serif\" font-size=\"15px\" fill=\"#000\">hcat</text><text text-anchor=\"start\" transform=\"translate(532,175)\" font-family=\"sans-serif\" font-size=\"15px\" fill=\"#000\">zip</text><text text-anchor=\"start\" transform=\"translate(542,215)\" font-family=\"sans-serif\" font-size=\"15px\" fill=\"#000\">size</text><text text-anchor=\"start\" transform=\"translate(592,245)\" font-family=\"sans-serif\" font-size=\"15px\" fill=\"#000\">intersect</text><text text-anchor=\"start\" transform=\"translate(532,295)\" font-family=\"sans-serif\" font-size=\"15px\" fill=\"#000\">tuple</text><text text-anchor=\"start\" transform=\"translate(612,315)\" font-family=\"sans-serif\" font-size=\"15px\" fill=\"#000\">length</text><text text-anchor=\"start\" transform=\"translate(442,435)\" font-family=\"sans-serif\" font-size=\"15px\" fill=\"#000\">enumerate</text><text text-anchor=\"start\" transform=\"translate(612,435)\" font-family=\"sans-serif\" font-size=\"15px\" fill=\"#000\">append!</text><text text-anchor=\"start\" transform=\"translate(442,575)\" font-family=\"sans-serif\" font-size=\"15px\" fill=\"#000\">haskey</text><text text-anchor=\"start\" transform=\"translate(302,575)\" font-family=\"sans-serif\" font-size=\"15px\" fill=\"#000\">push!</text><text text-anchor=\"start\" transform=\"translate(312,135)\" font-family=\"sans-serif\" font-size=\"15px\" fill=\"#000\">mapslices</text><text text-anchor=\"start\" transform=\"translate(242,175)\" font-family=\"sans-serif\" font-size=\"15px\" fill=\"#000\">min</text><text text-anchor=\"start\" transform=\"translate(262,235)\" font-family=\"sans-serif\" font-size=\"15px\" fill=\"#000\">max</text></g></g><path class=\"foreground\" aria-hidden=\"true\" d=\"\" display=\"none\"></path></g></g></g></svg>\n"
      ],
      "text/plain": [
       "@vgplot(\n",
       "    height=720,\n",
       "    width=720,\n",
       "    padding=5,\n",
       "    marks=[\n",
       "        {\n",
       "            encode={\n",
       "                update={\n",
       "                    stroke={\n",
       "                        value=\"#ccc\"\n",
       "                    },\n",
       "                    path={\n",
       "                        field=\"path\"\n",
       "                    }\n",
       "                }\n",
       "            },\n",
       "            from={\n",
       "                data=\"edges\"\n",
       "            },\n",
       "            type=\"path\"\n",
       "        },\n",
       "        {\n",
       "            type=\"symbol\",\n",
       "            from={\n",
       "                data=\"arrows\"\n",
       "            },\n",
       "            encode={\n",
       "                update={\n",
       "                    shape={\n",
       "                        value=\"triangle-up\"\n",
       "                    },\n",
       "                    x={\n",
       "                        field=\"x\"\n",
       "                    },\n",
       "                    angle={\n",
       "                        field=\"angle\"\n",
       "                    },\n",
       "                    y={\n",
       "                        field=\"y\"\n",
       "                    }\n",
       "                },\n",
       "                enter={\n",
       "                    shape={\n",
       "                        value=\"triangle-up\"\n",
       "                    },\n",
       "                    fill={\n",
       "                        value=\"#ccc\"\n",
       "                    },\n",
       "                    size={\n",
       "                        value=200\n",
       "                    },\n",
       "                    stroke={\n",
       "                        value=\"#555\"\n",
       "                    },\n",
       "                    strokeWidth={\n",
       "                        value=1\n",
       "                    }\n",
       "                }\n",
       "            }\n",
       "        },\n",
       "        {\n",
       "            encode={\n",
       "                update={\n",
       "                    x={\n",
       "                        field=\"x\"\n",
       "                    },\n",
       "                    fill={\n",
       "                        field=\"color\"\n",
       "                    },\n",
       "                    y={\n",
       "                        field=\"y\"\n",
       "                    }\n",
       "                },\n",
       "                enter={\n",
       "                    stroke={\n",
       "                        value=\"#fff\"\n",
       "                    },\n",
       "                    size={\n",
       "                        value=300\n",
       "                    }\n",
       "                }\n",
       "            },\n",
       "            from={\n",
       "                data=\"nodes\"\n",
       "            },\n",
       "            type=\"symbol\"\n",
       "        },\n",
       "        {\n",
       "            encode={\n",
       "                update={\n",
       "                    align={\n",
       "                        signal=\"datum.children ? 'right' : 'left'\"\n",
       "                    },\n",
       "                    x={\n",
       "                        field=\"x\"\n",
       "                    },\n",
       "                    dx={\n",
       "                        value=12\n",
       "                    },\n",
       "                    y={\n",
       "                        field=\"y\"\n",
       "                    },\n",
       "                    dy={\n",
       "                        value=-10\n",
       "                    }\n",
       "                },\n",
       "                enter={\n",
       "                    fontSize={\n",
       "                        value=15\n",
       "                    },\n",
       "                    text={\n",
       "                        field=\"name\"\n",
       "                    },\n",
       "                    baseline={\n",
       "                        value=\"middle\"\n",
       "                    }\n",
       "                }\n",
       "            },\n",
       "            from={\n",
       "                data=\"nodes\"\n",
       "            },\n",
       "            type=\"text\"\n",
       "        }\n",
       "    ],\n",
       "    data=[\n",
       "        {\n",
       "            name=\"nodes\",\n",
       "            values=[\n",
       "                {\n",
       "                    id=1,\n",
       "                    name=\"spaceindex\",\n",
       "                    x=360,\n",
       "                    y=360,\n",
       "                    color=\"#f00\"\n",
       "                },\n",
       "                {\n",
       "                    id=2,\n",
       "                    name=\"boundingbox\",\n",
       "                    x=360,\n",
       "                    y=200,\n",
       "                    color=\"#f00\"\n",
       "                },\n",
       "                {\n",
       "                    id=3,\n",
       "                    name=\"coordintervals\",\n",
       "                    x=360,\n",
       "                    y=520,\n",
       "                    color=\"#f00\"\n",
       "                },\n",
       "                {\n",
       "                    id=4,\n",
       "                    name=\"boxcovering\",\n",
       "                    x=500,\n",
       "                    y=360,\n",
       "                    color=\"#f00\"\n",
       "                },\n",
       "                {\n",
       "                    id=5,\n",
       "                    name=\"fragmentlines\",\n",
       "                    x=150,\n",
       "                    y=320,\n",
       "                    color=\"#0f0\"\n",
       "                },\n",
       "                {\n",
       "                    id=6,\n",
       "                    name=\"decomposition\",\n",
       "                    x=180,\n",
       "                    y=500,\n",
       "                    color=\"#0f0\"\n",
       "                },\n",
       "                {\n",
       "                    id=7,\n",
       "                    name=\"setdiff\",\n",
       "                    x=420,\n",
       "                    y=140,\n",
       "                    color=\"#00f\"\n",
       "                },\n",
       "                {\n",
       "                    id=8,\n",
       "                    name=\"hcat\",\n",
       "                    x=470,\n",
       "                    y=160,\n",
       "                    color=\"#00f\"\n",
       "                },\n",
       "                {\n",
       "                    id=9,\n",
       "                    name=\"zip\",\n",
       "                    x=520,\n",
       "                    y=180,\n",
       "                    color=\"#00f\"\n",
       "                },\n",
       "                {\n",
       "                    id=10,\n",
       "                    name=\"size\",\n",
       "                    x=530,\n",
       "                    y=220,\n",
       "                    color=\"#00f\"\n",
       "                },\n",
       "                {\n",
       "                    id=11,\n",
       "                    name=\"intersect\",\n",
       "                    x=580,\n",
       "                    y=250,\n",
       "                    color=\"#00f\"\n",
       "                },\n",
       "                {\n",
       "                    id=12,\n",
       "                    name=\"tuple\",\n",
       "                    x=520,\n",
       "                    y=300,\n",
       "                    color=\"#00f\"\n",
       "                },\n",
       "                {\n",
       "                    id=13,\n",
       "                    name=\"length\",\n",
       "                    x=600,\n",
       "                    y=320,\n",
       "                    color=\"#00f\"\n",
       "                },\n",
       "                {\n",
       "                    id=14,\n",
       "                    name=\"enumerate\",\n",
       "                    x=430,\n",
       "                    y=440,\n",
       "                    color=\"#00f\"\n",
       "                },\n",
       "                {\n",
       "                    id=15,\n",
       "                    name=\"append!\",\n",
       "                    x=600,\n",
       "                    y=440,\n",
       "                    color=\"#00f\"\n",
       "                },\n",
       "                {\n",
       "                    id=16,\n",
       "                    name=\"haskey\",\n",
       "                    x=430,\n",
       "                    y=580,\n",
       "                    color=\"#00f\"\n",
       "                },\n",
       "                {\n",
       "                    id=17,\n",
       "                    name=\"push!\",\n",
       "                    x=290,\n",
       "                    y=580,\n",
       "                    color=\"#00f\"\n",
       "                },\n",
       "                {\n",
       "                    id=18,\n",
       "                    name=\"mapslices\",\n",
       "                    x=300,\n",
       "                    y=140,\n",
       "                    color=\"#00f\"\n",
       "                },\n",
       "                {\n",
       "                    id=19,\n",
       "                    name=\"min\",\n",
       "                    x=230,\n",
       "                    y=180,\n",
       "                    color=\"#00f\"\n",
       "                },\n",
       "                {\n",
       "                    id=20,\n",
       "                    name=\"max\",\n",
       "                    x=250,\n",
       "                    y=240,\n",
       "                    color=\"#00f\"\n",
       "                }\n",
       "            ],\n",
       "            transform=[\n",
       "                {\n",
       "                    type=\"formula\",\n",
       "                    expr=\"atan2(datum.y, datum.x)\",\n",
       "                    as=\"angle\"\n",
       "                },\n",
       "                {\n",
       "                    type=\"formula\",\n",
       "                    expr=\"sqrt(datum.y * datum.y + datum.x * datum.x)\",\n",
       "                    as=\"radius\"\n",
       "                }\n",
       "            ]\n",
       "        },\n",
       "        {\n",
       "            name=\"edges\",\n",
       "            values=[\n",
       "                {\n",
       "                    s=1,\n",
       "                    t=2\n",
       "                },\n",
       "                {\n",
       "                    s=1,\n",
       "                    t=7\n",
       "                },\n",
       "                {\n",
       "                    s=1,\n",
       "                    t=8\n",
       "                },\n",
       "                {\n",
       "                    s=1,\n",
       "                    t=9\n",
       "                },\n",
       "                {\n",
       "                    s=1,\n",
       "                    t=10\n",
       "                },\n",
       "                {\n",
       "                    s=1,\n",
       "                    t=11\n",
       "                },\n",
       "                {\n",
       "                    s=1,\n",
       "                    t=12\n",
       "                },\n",
       "                {\n",
       "                    s=1,\n",
       "                    t=13\n",
       "                },\n",
       "                {\n",
       "                    s=1,\n",
       "                    t=3\n",
       "                },\n",
       "                {\n",
       "                    s=1,\n",
       "                    t=4\n",
       "                },\n",
       "                {\n",
       "                    s=2,\n",
       "                    t=18\n",
       "                },\n",
       "                {\n",
       "                    s=2,\n",
       "                    t=19\n",
       "                },\n",
       "                {\n",
       "                    s=2,\n",
       "                    t=20\n",
       "                },\n",
       "                {\n",
       "                    s=3,\n",
       "                    t=14\n",
       "                },\n",
       "                {\n",
       "                    s=3,\n",
       "                    t=16\n",
       "                },\n",
       "                {\n",
       "                    s=3,\n",
       "                    t=17\n",
       "                },\n",
       "                {\n",
       "                    s=4,\n",
       "                    t=11\n",
       "                },\n",
       "                {\n",
       "                    s=4,\n",
       "                    t=12\n",
       "                },\n",
       "                {\n",
       "                    s=4,\n",
       "                    t=13\n",
       "                },\n",
       "                {\n",
       "                    s=4,\n",
       "                    t=14\n",
       "                },\n",
       "                {\n",
       "                    s=4,\n",
       "                    t=15\n",
       "                },\n",
       "                {\n",
       "                    s=5,\n",
       "                    t=1\n",
       "                },\n",
       "                {\n",
       "                    s=6,\n",
       "                    t=1\n",
       "                }\n",
       "            ],\n",
       "            transform=[\n",
       "                {\n",
       "                    type=\"lookup\",\n",
       "                    from=\"nodes\",\n",
       "                    key=\"id\",\n",
       "                    fields=[\n",
       "                        \"s\",\n",
       "                        \"t\"\n",
       "                    ],\n",
       "                    as=[\n",
       "                        \"source\",\n",
       "                        \"target\"\n",
       "                    ]\n",
       "                },\n",
       "                {\n",
       "                    type=\"linkpath\",\n",
       "                    shape=\"line\"\n",
       "                }\n",
       "            ]\n",
       "        },\n",
       "        {\n",
       "            name=\"arrows\",\n",
       "            values=[\n",
       "                {\n",
       "                    id=1,\n",
       "                    x=360,\n",
       "                    y=215,\n",
       "                    angle=0\n",
       "                },\n",
       "                {\n",
       "                    id=2,\n",
       "                    x=416,\n",
       "                    y=154,\n",
       "                    angle=15\n",
       "                },\n",
       "                {\n",
       "                    id=3,\n",
       "                    x=463,\n",
       "                    y=172,\n",
       "                    angle=25\n",
       "                },\n",
       "                {\n",
       "                    id=4,\n",
       "                    x=511,\n",
       "                    y=191,\n",
       "                    angle=37\n",
       "                },\n",
       "                {\n",
       "                    id=5,\n",
       "                    x=520,\n",
       "                    y=230,\n",
       "                    angle=45\n",
       "                },\n",
       "                {\n",
       "                    id=6,\n",
       "                    x=567,\n",
       "                    y=255,\n",
       "                    angle=60\n",
       "                },\n",
       "                {\n",
       "                    id=7,\n",
       "                    x=505,\n",
       "                    y=305,\n",
       "                    angle=72\n",
       "                },\n",
       "                {\n",
       "                    id=8,\n",
       "                    x=585,\n",
       "                    y=322,\n",
       "                    angle=82\n",
       "                },\n",
       "                {\n",
       "                    id=9,\n",
       "                    x=485,\n",
       "                    y=360,\n",
       "                    angle=90\n",
       "                },\n",
       "                {\n",
       "                    id=10,\n",
       "                    x=360,\n",
       "                    y=505,\n",
       "                    angle=180\n",
       "                },\n",
       "                {\n",
       "                    id=11,\n",
       "                    x=348,\n",
       "                    y=369,\n",
       "                    angle=47\n",
       "                },\n",
       "                {\n",
       "                    id=12,\n",
       "                    x=345,\n",
       "                    y=357,\n",
       "                    angle=99\n",
       "                },\n",
       "                {\n",
       "                    id=13,\n",
       "                    x=310,\n",
       "                    y=150,\n",
       "                    angle=-40\n",
       "                },\n",
       "                {\n",
       "                    id=14,\n",
       "                    x=245,\n",
       "                    y=183,\n",
       "                    angle=-80\n",
       "                },\n",
       "                {\n",
       "                    id=15,\n",
       "                    x=263,\n",
       "                    y=234,\n",
       "                    angle=-115\n",
       "                },\n",
       "                {\n",
       "                    id=16,\n",
       "                    x=573,\n",
       "                    y=261,\n",
       "                    angle=30\n",
       "                },\n",
       "                {\n",
       "                    id=17,\n",
       "                    x=515,\n",
       "                    y=315,\n",
       "                    angle=12\n",
       "                },\n",
       "                {\n",
       "                    id=18,\n",
       "                    x=587,\n",
       "                    y=326,\n",
       "                    angle=75\n",
       "                },\n",
       "                {\n",
       "                    id=19,\n",
       "                    x=589,\n",
       "                    y=429,\n",
       "                    angle=135\n",
       "                },\n",
       "                {\n",
       "                    id=20,\n",
       "                    x=440,\n",
       "                    y=430,\n",
       "                    angle=-135\n",
       "                },\n",
       "                {\n",
       "                    id=21,\n",
       "                    x=420,\n",
       "                    y=450,\n",
       "                    angle=42\n",
       "                },\n",
       "                {\n",
       "                    id=22,\n",
       "                    x=419,\n",
       "                    y=569,\n",
       "                    angle=135\n",
       "                },\n",
       "                {\n",
       "                    id=23,\n",
       "                    x=301,\n",
       "                    y=569,\n",
       "                    angle=-135\n",
       "                }\n",
       "            ]\n",
       "        }\n",
       "    ]\n",
       ")"
      ]
     },
     "execution_count": 1,
     "metadata": {},
     "output_type": "execute_result"
    }
   ],
   "source": [
    "using Vega\n",
    "using VegaDatasets\n",
    "plot = @vgplot(\n",
    "    height=720,\n",
    "    width=720,\n",
    "    padding=5,\n",
    "    marks=[\n",
    "        {\n",
    "            encode={\n",
    "                update={\n",
    "                    stroke={\n",
    "                        value=\"#ccc\"\n",
    "                    },\n",
    "                    path={\n",
    "                        field=\"path\"\n",
    "                    }\n",
    "                }\n",
    "            },\n",
    "            from={\n",
    "                data=\"edges\"\n",
    "            },\n",
    "            type=\"path\"\n",
    "        },\n",
    "        {\n",
    "            type=\"symbol\",\n",
    "            from={\n",
    "                data=\"arrows\"\n",
    "            },\n",
    "            encode={\n",
    "                update={\n",
    "                    shape={\n",
    "                        value=\"triangle-up\"\n",
    "                    },\n",
    "                    x={\n",
    "                        field=\"x\"\n",
    "                    },\n",
    "                    angle={\n",
    "                        field=\"angle\"\n",
    "                    },\n",
    "                    y={\n",
    "                        field=\"y\"\n",
    "                    }\n",
    "                },\n",
    "                enter={\n",
    "                    shape={\n",
    "                        value=\"triangle-up\"\n",
    "                    },\n",
    "                    fill={\n",
    "                        value=\"#ccc\"\n",
    "                    },\n",
    "                    size={\n",
    "                        value=200\n",
    "                    },\n",
    "                    stroke={\n",
    "                        value=\"#555\"\n",
    "                    },\n",
    "                    strokeWidth={\n",
    "                        value=1\n",
    "                    }\n",
    "                }\n",
    "            }\n",
    "        },\n",
    "        {\n",
    "            encode={\n",
    "                update={\n",
    "                    x={\n",
    "                        field=\"x\"\n",
    "                    },\n",
    "                    fill={\n",
    "                        field=\"color\"\n",
    "                    },\n",
    "                    y={\n",
    "                        field=\"y\"\n",
    "                    }\n",
    "                },\n",
    "                enter={\n",
    "                    stroke={\n",
    "                        value=\"#fff\"\n",
    "                    },\n",
    "                    size={\n",
    "                        value=300\n",
    "                    }\n",
    "                }\n",
    "            },\n",
    "            from={\n",
    "                data=\"nodes\"\n",
    "            },\n",
    "            type=\"symbol\"\n",
    "        },\n",
    "        {\n",
    "            encode={\n",
    "                update={\n",
    "                    align={\n",
    "                        signal=\"datum.children ? 'right' : 'left'\"\n",
    "                    },\n",
    "                    x={\n",
    "                        field=\"x\"\n",
    "                    },\n",
    "                    dx={\n",
    "                        value=12                    \n",
    "                    },\n",
    "                    y={\n",
    "                        field=\"y\"\n",
    "                    },\n",
    "                    dy={\n",
    "                        value=-10                    \n",
    "                    },\n",
    "                },\n",
    "                enter={\n",
    "                    fontSize={\n",
    "                        value=15\n",
    "                    },\n",
    "                    text={\n",
    "                        field=\"name\"\n",
    "                    },\n",
    "                    baseline={\n",
    "                        value=\"middle\"\n",
    "                    }\n",
    "                }\n",
    "            },\n",
    "            from={\n",
    "                data=\"nodes\"\n",
    "            },\n",
    "            type=\"text\"\n",
    "        }\n",
    "    ],\n",
    "    data=[\n",
    "        {\n",
    "            name=\"nodes\",\n",
    "            values= [\n",
    "                {id= 1, name=\"spaceindex\", x=  360, y=360, color=\"#f00\"},\n",
    "                {id= 2, name=\"boundingbox\", x=  360, y=200, color=\"#f00\"},\n",
    "                {id= 3, name=\"coordintervals\", x=  360, y=520, color=\"#f00\"},\n",
    "                {id= 4, name=\"boxcovering\", x=  500, y=360, color=\"#f00\"},\n",
    "                {id= 5, name=\"fragmentlines\", x=  150, y=320, color=\"#0f0\"},\n",
    "                {id= 6, name=\"decomposition\", x=  180, y=500, color=\"#0f0\"},\n",
    "                {id= 7, name=\"setdiff\", x=  420, y=140, color=\"#00f\"},\n",
    "                {id= 8, name=\"hcat\", x=  470, y=160, color=\"#00f\"},\n",
    "                {id= 9, name=\"zip\", x=  520, y=180, color=\"#00f\"},\n",
    "                {id= 10, name=\"size\", x=  530, y=220, color=\"#00f\"},\n",
    "                {id= 11, name=\"intersect\", x=  580, y=250, color=\"#00f\"},\n",
    "                {id= 12, name=\"tuple\", x=  520, y=300, color=\"#00f\"},\n",
    "                {id= 13, name=\"length\", x=  600, y=320, color=\"#00f\"},\n",
    "                {id= 14, name=\"enumerate\", x=  430, y=440, color=\"#00f\"},\n",
    "                {id= 15, name=\"append!\", x=  600, y=440, color=\"#00f\"},\n",
    "                {id= 16, name=\"haskey\", x=  430, y=580, color=\"#00f\"},\n",
    "                {id= 17, name=\"push!\", x=  290, y=580, color=\"#00f\"},\n",
    "                {id= 18, name=\"mapslices\", x=  300, y=140, color=\"#00f\"},\n",
    "                {id= 19, name=\"min\", x=  230, y=180, color=\"#00f\"},\n",
    "                {id= 20, name=\"max\", x=  250, y=240, color=\"#00f\"},\n",
    "              ],\n",
    "            transform= [\n",
    "                {\n",
    "                  type= \"formula\",\n",
    "                  expr= \"atan2(datum.y, datum.x)\",\n",
    "                  as= \"angle\"\n",
    "                },\n",
    "                {\n",
    "                  type= \"formula\",\n",
    "                  expr= \"sqrt(datum.y * datum.y + datum.x * datum.x)\",\n",
    "                  as= \"radius\"\n",
    "                }\n",
    "              ]\n",
    "        },\n",
    "        {\n",
    "              name= \"edges\",\n",
    "              values= [\n",
    "                {s=1, t=2},\n",
    "                {s=1, t=7},\n",
    "                {s=1, t=8},\n",
    "                {s=1, t=9},\n",
    "                {s=1, t=10},\n",
    "                {s=1, t=11},\n",
    "                {s=1, t=12},\n",
    "                {s=1, t=13},\n",
    "                {s=1, t=3},\n",
    "                {s=1, t=4},\n",
    "                {s=2, t=18},\n",
    "                {s=2, t=19},\n",
    "                {s=2, t=20},\n",
    "                {s=3, t=14},\n",
    "                {s=3, t=16},\n",
    "                {s=3, t=17},\n",
    "                {s=4, t=11},\n",
    "                {s=4, t=12},\n",
    "                {s=4, t=13},\n",
    "                {s=4, t=14},\n",
    "                {s=4, t=15},\n",
    "                {s=5, t=1},\n",
    "                {s=6, t=1},\n",
    "              ],\n",
    "              transform= [\n",
    "                {\n",
    "                  type= \"lookup\",\n",
    "                  from= \"nodes\",\n",
    "                  key= \"id\",\n",
    "                  fields= [\"s\", \"t\"],\n",
    "                  as= [\"source\", \"target\"]\n",
    "                },\n",
    "                {\n",
    "                  type= \"linkpath\",\n",
    "                  shape= \"line\"\n",
    "                }\n",
    "            ],\n",
    "        },\n",
    "        {\n",
    "            name=\"arrows\",\n",
    "            values=[\n",
    "                {id=1, x=360, y=215, angle=0},\n",
    "                {id=2, x=416, y=154, angle=15},\n",
    "                {id=3, x=463, y=172, angle=25},\n",
    "                {id=4, x=511, y=191, angle=37},\n",
    "                {id=5, x=520, y=230, angle=45},\n",
    "                {id=6, x=567, y=255, angle=60},\n",
    "                {id=7, x=505, y=305, angle=72},\n",
    "                {id=8, x=585, y=322, angle=82},\n",
    "                {id=9, x=485, y=360, angle=90},\n",
    "                {id=10, x=360, y=505, angle=180},\n",
    "                {id=11, x=348, y=369, angle=47},\n",
    "                {id=12, x=345, y=357, angle=99},\n",
    "                {id=13, x=310, y=150, angle=-40},\n",
    "                {id=14, x=245, y=183, angle=-80},\n",
    "                {id=15, x=263, y=234, angle=-115},\n",
    "                {id=16, x=573, y=261, angle=30},\n",
    "                {id=17, x=515, y=315, angle=12},\n",
    "                {id=18, x=587, y=326, angle=75},\n",
    "                {id=19, x=589, y=429, angle=135},\n",
    "                {id=20, x=440, y=430, angle=-135},\n",
    "                {id=21, x=420, y=450, angle=42},\n",
    "                {id=22, x=419, y=569, angle=135},\n",
    "                {id=23, x=301, y=569, angle=-135},\n",
    "                \n",
    "            ]\n",
    "        }\n",
    "    ]\n",
    ")"
   ]
  },
  {
   "cell_type": "code",
   "execution_count": null,
   "metadata": {},
   "outputs": [],
   "source": [
    "plot |> save(\"functionGraph.svg\")\n",
    "plot |> save(\"functionGraph.pdf\")"
   ]
  },
  {
   "cell_type": "markdown",
   "metadata": {},
   "source": [
    "### grafico con funzioni aggiornate che coinvolgono spaceindex"
   ]
  },
  {
   "cell_type": "code",
   "execution_count": 2,
   "metadata": {},
   "outputs": [
    {
     "data": {
      "application/vnd.vega.v5+json": {
       "data": [
        {
         "name": "nodes",
         "transform": [
          {
           "as": "angle",
           "expr": "atan2(datum.y, datum.x)",
           "type": "formula"
          },
          {
           "as": "radius",
           "expr": "sqrt(datum.y * datum.y + datum.x * datum.x)",
           "type": "formula"
          }
         ],
         "values": [
          {
           "color": "#f00",
           "id": 1,
           "name": "spaceindex",
           "x": 360,
           "y": 360
          },
          {
           "color": "#f00",
           "id": 2,
           "name": "boundingbox",
           "x": 360,
           "y": 200
          },
          {
           "color": "#f00",
           "id": 3,
           "name": "coordintervals",
           "x": 360,
           "y": 520
          },
          {
           "color": "#f00",
           "id": 4,
           "name": "boxcovering",
           "x": 500,
           "y": 360
          },
          {
           "color": "#0f0",
           "id": 5,
           "name": "fragmentlines",
           "x": 150,
           "y": 290
          },
          {
           "color": "#0f0",
           "id": 6,
           "name": "decomposition",
           "x": 180,
           "y": 500
          },
          {
           "color": "#00f",
           "id": 7,
           "name": "setdiff",
           "x": 420,
           "y": 140
          },
          {
           "color": "#00f",
           "id": 8,
           "name": "hcat",
           "x": 470,
           "y": 160
          },
          {
           "color": "#00f",
           "id": 9,
           "name": "zip",
           "x": 520,
           "y": 180
          },
          {
           "color": "#00f",
           "id": 10,
           "name": "size",
           "x": 530,
           "y": 220
          },
          {
           "color": "#00f",
           "id": 11,
           "name": "intersect",
           "x": 580,
           "y": 250
          },
          {
           "color": "#00f",
           "id": 12,
           "name": "tuple",
           "x": 520,
           "y": 300
          },
          {
           "color": "#00f",
           "id": 13,
           "name": "length",
           "x": 600,
           "y": 320
          },
          {
           "color": "#00f",
           "id": 14,
           "name": "enumerate",
           "x": 430,
           "y": 440
          },
          {
           "color": "#00f",
           "id": 15,
           "name": "append!",
           "x": 600,
           "y": 440
          },
          {
           "color": "#00f",
           "id": 16,
           "name": "haskey",
           "x": 430,
           "y": 580
          },
          {
           "color": "#00f",
           "id": 17,
           "name": "push!",
           "x": 290,
           "y": 580
          },
          {
           "color": "#00f",
           "id": 18,
           "name": "mapslices",
           "x": 300,
           "y": 140
          },
          {
           "color": "#00f",
           "id": 19,
           "name": "min",
           "x": 230,
           "y": 180
          },
          {
           "color": "#00f",
           "id": 20,
           "name": "max",
           "x": 250,
           "y": 240
          },
          {
           "color": "#0ff",
           "id": 21,
           "name": "addIntersection!",
           "x": 510,
           "y": 500
          },
          {
           "color": "#0ff",
           "id": 22,
           "name": "createIntervalTree",
           "x": 140,
           "y": 345
          },
          {
           "color": "#0ff",
           "id": 23,
           "name": "removeSelfIntersection!",
           "x": 130,
           "y": 440
          }
         ]
        },
        {
         "name": "edges",
         "transform": [
          {
           "as": [
            "source",
            "target"
           ],
           "fields": [
            "s",
            "t"
           ],
           "from": "nodes",
           "key": "id",
           "type": "lookup"
          },
          {
           "shape": "line",
           "type": "linkpath"
          }
         ],
         "values": [
          {
           "s": 1,
           "t": 2
          },
          {
           "s": 1,
           "t": 7
          },
          {
           "s": 1,
           "t": 8
          },
          {
           "s": 1,
           "t": 9
          },
          {
           "s": 1,
           "t": 10
          },
          {
           "s": 1,
           "t": 11
          },
          {
           "s": 1,
           "t": 12
          },
          {
           "s": 1,
           "t": 13
          },
          {
           "s": 1,
           "t": 3
          },
          {
           "s": 1,
           "t": 4
          },
          {
           "s": 1,
           "t": 22
          },
          {
           "s": 1,
           "t": 23
          },
          {
           "s": 2,
           "t": 18
          },
          {
           "s": 2,
           "t": 19
          },
          {
           "s": 2,
           "t": 20
          },
          {
           "s": 3,
           "t": 14
          },
          {
           "s": 3,
           "t": 16
          },
          {
           "s": 3,
           "t": 17
          },
          {
           "s": 4,
           "t": 11
          },
          {
           "s": 4,
           "t": 12
          },
          {
           "s": 4,
           "t": 13
          },
          {
           "s": 4,
           "t": 14
          },
          {
           "s": 4,
           "t": 15
          },
          {
           "s": 4,
           "t": 21
          },
          {
           "s": 5,
           "t": 1
          },
          {
           "s": 6,
           "t": 1
          }
         ]
        },
        {
         "name": "arrows",
         "values": [
          {
           "angle": 0,
           "id": 1,
           "x": 360,
           "y": 215
          },
          {
           "angle": 15,
           "id": 2,
           "x": 416,
           "y": 154
          },
          {
           "angle": 25,
           "id": 3,
           "x": 463,
           "y": 172
          },
          {
           "angle": 37,
           "id": 4,
           "x": 511,
           "y": 191
          },
          {
           "angle": 45,
           "id": 5,
           "x": 520,
           "y": 230
          },
          {
           "angle": 60,
           "id": 6,
           "x": 567,
           "y": 255
          },
          {
           "angle": 72,
           "id": 7,
           "x": 505,
           "y": 305
          },
          {
           "angle": 82,
           "id": 8,
           "x": 585,
           "y": 322
          },
          {
           "angle": 90,
           "id": 9,
           "x": 485,
           "y": 360
          },
          {
           "angle": 180,
           "id": 10,
           "x": 360,
           "y": 505
          },
          {
           "angle": 47,
           "id": 11,
           "x": 348,
           "y": 369
          },
          {
           "angle": 113,
           "id": 12,
           "x": 346,
           "y": 356
          },
          {
           "angle": -40,
           "id": 13,
           "x": 310,
           "y": 150
          },
          {
           "angle": -80,
           "id": 14,
           "x": 245,
           "y": 183
          },
          {
           "angle": -115,
           "id": 15,
           "x": 263,
           "y": 234
          },
          {
           "angle": 30,
           "id": 16,
           "x": 573,
           "y": 261
          },
          {
           "angle": 12,
           "id": 17,
           "x": 515,
           "y": 315
          },
          {
           "angle": 75,
           "id": 18,
           "x": 587,
           "y": 326
          },
          {
           "angle": 135,
           "id": 19,
           "x": 589,
           "y": 429
          },
          {
           "angle": -135,
           "id": 20,
           "x": 440,
           "y": 430
          },
          {
           "angle": 42,
           "id": 21,
           "x": 420,
           "y": 450
          },
          {
           "angle": 135,
           "id": 22,
           "x": 419,
           "y": 569
          },
          {
           "angle": -135,
           "id": 23,
           "x": 301,
           "y": 569
          },
          {
           "angle": 178,
           "id": 24,
           "x": 510,
           "y": 485
          },
          {
           "angle": -87,
           "id": 25,
           "x": 155,
           "y": 346
          },
          {
           "angle": -118,
           "id": 26,
           "x": 145,
           "y": 436
          }
         ]
        }
       ],
       "height": 720,
       "marks": [
        {
         "encode": {
          "update": {
           "path": {
            "field": "path"
           },
           "stroke": {
            "value": "#ccc"
           }
          }
         },
         "from": {
          "data": "edges"
         },
         "type": "path"
        },
        {
         "encode": {
          "enter": {
           "fill": {
            "value": "#ccc"
           },
           "shape": {
            "value": "triangle-up"
           },
           "size": {
            "value": 200
           },
           "stroke": {
            "value": "#555"
           },
           "strokeWidth": {
            "value": 1
           }
          },
          "update": {
           "angle": {
            "field": "angle"
           },
           "shape": {
            "value": "triangle-up"
           },
           "x": {
            "field": "x"
           },
           "y": {
            "field": "y"
           }
          }
         },
         "from": {
          "data": "arrows"
         },
         "type": "symbol"
        },
        {
         "encode": {
          "enter": {
           "size": {
            "value": 300
           },
           "stroke": {
            "value": "#fff"
           }
          },
          "update": {
           "fill": {
            "field": "color"
           },
           "x": {
            "field": "x"
           },
           "y": {
            "field": "y"
           }
          }
         },
         "from": {
          "data": "nodes"
         },
         "type": "symbol"
        },
        {
         "encode": {
          "enter": {
           "baseline": {
            "value": "middle"
           },
           "fontSize": {
            "value": 15
           },
           "text": {
            "field": "name"
           }
          },
          "update": {
           "align": {
            "signal": "datum.children ? 'right' : 'left'"
           },
           "dx": {
            "value": 12
           },
           "dy": {
            "value": -10
           },
           "x": {
            "field": "x"
           },
           "y": {
            "field": "y"
           }
          }
         },
         "from": {
          "data": "nodes"
         },
         "type": "text"
        }
       ],
       "padding": 5,
       "width": 720
      },
      "image/png": "[encoded data removed]",
      "image/svg+xml": [
       "<?xml version=\"1.0\" encoding=\"utf-8\"?>\n",
       "<!DOCTYPE svg PUBLIC \"-//W3C//DTD SVG 1.1//EN\" \"http://www.w3.org/Graphics/SVG/1.1/DTD/svg11.dtd\">\n",
       "<svg class=\"marks\" width=\"730\" height=\"730\" viewBox=\"0 0 730 730\" version=\"1.1\" xmlns=\"http://www.w3.org/2000/svg\" xmlns:xlink=\"http://www.w3.org/1999/xlink\"><g fill=\"none\" stroke-miterlimit=\"10\" transform=\"translate(5,5)\"><g class=\"mark-group role-frame root\" role=\"graphics-object\" aria-roledescription=\"group mark container\"><g transform=\"translate(0,0)\"><path class=\"background\" aria-hidden=\"true\" d=\"M0,0h720v720h-720Z\"></path><g><g class=\"mark-path role-mark\" role=\"graphics-symbol\" aria-roledescription=\"path mark container\"><path transform=\"translate(0,0)\" d=\"M360,360L360,200\" stroke=\"#ccc\"></path><path transform=\"translate(0,0)\" d=\"M360,360L420,140\" stroke=\"#ccc\"></path><path transform=\"translate(0,0)\" d=\"M360,360L470,160\" stroke=\"#ccc\"></path><path transform=\"translate(0,0)\" d=\"M360,360L520,180\" stroke=\"#ccc\"></path><path transform=\"translate(0,0)\" d=\"M360,360L530,220\" stroke=\"#ccc\"></path><path transform=\"translate(0,0)\" d=\"M360,360L580,250\" stroke=\"#ccc\"></path><path transform=\"translate(0,0)\" d=\"M360,360L520,300\" stroke=\"#ccc\"></path><path transform=\"translate(0,0)\" d=\"M360,360L600,320\" stroke=\"#ccc\"></path><path transform=\"translate(0,0)\" d=\"M360,360L360,520\" stroke=\"#ccc\"></path><path transform=\"translate(0,0)\" d=\"M360,360L500,360\" stroke=\"#ccc\"></path><path transform=\"translate(0,0)\" d=\"M360,360L140,345\" stroke=\"#ccc\"></path><path transform=\"translate(0,0)\" d=\"M360,360L130,440\" stroke=\"#ccc\"></path><path transform=\"translate(0,0)\" d=\"M360,200L300,140\" stroke=\"#ccc\"></path><path transform=\"translate(0,0)\" d=\"M360,200L230,180\" stroke=\"#ccc\"></path><path transform=\"translate(0,0)\" d=\"M360,200L250,240\" stroke=\"#ccc\"></path><path transform=\"translate(0,0)\" d=\"M360,520L430,440\" stroke=\"#ccc\"></path><path transform=\"translate(0,0)\" d=\"M360,520L430,580\" stroke=\"#ccc\"></path><path transform=\"translate(0,0)\" d=\"M360,520L290,580\" stroke=\"#ccc\"></path><path transform=\"translate(0,0)\" d=\"M500,360L580,250\" stroke=\"#ccc\"></path><path transform=\"translate(0,0)\" d=\"M500,360L520,300\" stroke=\"#ccc\"></path><path transform=\"translate(0,0)\" d=\"M500,360L600,320\" stroke=\"#ccc\"></path><path transform=\"translate(0,0)\" d=\"M500,360L430,440\" stroke=\"#ccc\"></path><path transform=\"translate(0,0)\" d=\"M500,360L600,440\" stroke=\"#ccc\"></path><path transform=\"translate(0,0)\" d=\"M500,360L510,500\" stroke=\"#ccc\"></path><path transform=\"translate(0,0)\" d=\"M150,290L360,360\" stroke=\"#ccc\"></path><path transform=\"translate(0,0)\" d=\"M180,500L360,360\" stroke=\"#ccc\"></path></g><g class=\"mark-symbol role-mark\" role=\"graphics-symbol\" aria-roledescription=\"symbol mark container\"><path transform=\"translate(360,215)\" d=\"M0,-6.123724356957945L-7.0710678118654755,6.123724356957945L7.0710678118654755,6.123724356957945Z\" fill=\"#ccc\" stroke=\"#555\" stroke-width=\"1\"></path><path transform=\"translate(416,154) rotate(15)\" d=\"M0,-6.123724356957945L-7.0710678118654755,6.123724356957945L7.0710678118654755,6.123724356957945Z\" fill=\"#ccc\" stroke=\"#555\" stroke-width=\"1\"></path><path transform=\"translate(463,172) rotate(25)\" d=\"M0,-6.123724356957945L-7.0710678118654755,6.123724356957945L7.0710678118654755,6.123724356957945Z\" fill=\"#ccc\" stroke=\"#555\" stroke-width=\"1\"></path><path transform=\"translate(511,191) rotate(37)\" d=\"M0,-6.123724356957945L-7.0710678118654755,6.123724356957945L7.0710678118654755,6.123724356957945Z\" fill=\"#ccc\" stroke=\"#555\" stroke-width=\"1\"></path><path transform=\"translate(520,230) rotate(45)\" d=\"M0,-6.123724356957945L-7.0710678118654755,6.123724356957945L7.0710678118654755,6.123724356957945Z\" fill=\"#ccc\" stroke=\"#555\" stroke-width=\"1\"></path><path transform=\"translate(567,255) rotate(60)\" d=\"M0,-6.123724356957945L-7.0710678118654755,6.123724356957945L7.0710678118654755,6.123724356957945Z\" fill=\"#ccc\" stroke=\"#555\" stroke-width=\"1\"></path><path transform=\"translate(505,305) rotate(72)\" d=\"M0,-6.123724356957945L-7.0710678118654755,6.123724356957945L7.0710678118654755,6.123724356957945Z\" fill=\"#ccc\" stroke=\"#555\" stroke-width=\"1\"></path><path transform=\"translate(585,322) rotate(82)\" d=\"M0,-6.123724356957945L-7.0710678118654755,6.123724356957945L7.0710678118654755,6.123724356957945Z\" fill=\"#ccc\" stroke=\"#555\" stroke-width=\"1\"></path><path transform=\"translate(485,360) rotate(90)\" d=\"M0,-6.123724356957945L-7.0710678118654755,6.123724356957945L7.0710678118654755,6.123724356957945Z\" fill=\"#ccc\" stroke=\"#555\" stroke-width=\"1\"></path><path transform=\"translate(360,505) rotate(180)\" d=\"M0,-6.123724356957945L-7.0710678118654755,6.123724356957945L7.0710678118654755,6.123724356957945Z\" fill=\"#ccc\" stroke=\"#555\" stroke-width=\"1\"></path><path transform=\"translate(348,369) rotate(47)\" d=\"M0,-6.123724356957945L-7.0710678118654755,6.123724356957945L7.0710678118654755,6.123724356957945Z\" fill=\"#ccc\" stroke=\"#555\" stroke-width=\"1\"></path><path transform=\"translate(346,356) rotate(113)\" d=\"M0,-6.123724356957945L-7.0710678118654755,6.123724356957945L7.0710678118654755,6.123724356957945Z\" fill=\"#ccc\" stroke=\"#555\" stroke-width=\"1\"></path><path transform=\"translate(310,150) rotate(-40)\" d=\"M0,-6.123724356957945L-7.0710678118654755,6.123724356957945L7.0710678118654755,6.123724356957945Z\" fill=\"#ccc\" stroke=\"#555\" stroke-width=\"1\"></path><path transform=\"translate(245,183) rotate(-80)\" d=\"M0,-6.123724356957945L-7.0710678118654755,6.123724356957945L7.0710678118654755,6.123724356957945Z\" fill=\"#ccc\" stroke=\"#555\" stroke-width=\"1\"></path><path transform=\"translate(263,234) rotate(-115)\" d=\"M0,-6.123724356957945L-7.0710678118654755,6.123724356957945L7.0710678118654755,6.123724356957945Z\" fill=\"#ccc\" stroke=\"#555\" stroke-width=\"1\"></path><path transform=\"translate(573,261) rotate(30)\" d=\"M0,-6.123724356957945L-7.0710678118654755,6.123724356957945L7.0710678118654755,6.123724356957945Z\" fill=\"#ccc\" stroke=\"#555\" stroke-width=\"1\"></path><path transform=\"translate(515,315) rotate(12)\" d=\"M0,-6.123724356957945L-7.0710678118654755,6.123724356957945L7.0710678118654755,6.123724356957945Z\" fill=\"#ccc\" stroke=\"#555\" stroke-width=\"1\"></path><path transform=\"translate(587,326) rotate(75)\" d=\"M0,-6.123724356957945L-7.0710678118654755,6.123724356957945L7.0710678118654755,6.123724356957945Z\" fill=\"#ccc\" stroke=\"#555\" stroke-width=\"1\"></path><path transform=\"translate(589,429) rotate(135)\" d=\"M0,-6.123724356957945L-7.0710678118654755,6.123724356957945L7.0710678118654755,6.123724356957945Z\" fill=\"#ccc\" stroke=\"#555\" stroke-width=\"1\"></path><path transform=\"translate(440,430) rotate(-135)\" d=\"M0,-6.123724356957945L-7.0710678118654755,6.123724356957945L7.0710678118654755,6.123724356957945Z\" fill=\"#ccc\" stroke=\"#555\" stroke-width=\"1\"></path><path transform=\"translate(420,450) rotate(42)\" d=\"M0,-6.123724356957945L-7.0710678118654755,6.123724356957945L7.0710678118654755,6.123724356957945Z\" fill=\"#ccc\" stroke=\"#555\" stroke-width=\"1\"></path><path transform=\"translate(419,569) rotate(135)\" d=\"M0,-6.123724356957945L-7.0710678118654755,6.123724356957945L7.0710678118654755,6.123724356957945Z\" fill=\"#ccc\" stroke=\"#555\" stroke-width=\"1\"></path><path transform=\"translate(301,569) rotate(-135)\" d=\"M0,-6.123724356957945L-7.0710678118654755,6.123724356957945L7.0710678118654755,6.123724356957945Z\" fill=\"#ccc\" stroke=\"#555\" stroke-width=\"1\"></path><path transform=\"translate(510,485) rotate(178)\" d=\"M0,-6.123724356957945L-7.0710678118654755,6.123724356957945L7.0710678118654755,6.123724356957945Z\" fill=\"#ccc\" stroke=\"#555\" stroke-width=\"1\"></path><path transform=\"translate(155,346) rotate(-87)\" d=\"M0,-6.123724356957945L-7.0710678118654755,6.123724356957945L7.0710678118654755,6.123724356957945Z\" fill=\"#ccc\" stroke=\"#555\" stroke-width=\"1\"></path><path transform=\"translate(145,436) rotate(-118)\" d=\"M0,-6.123724356957945L-7.0710678118654755,6.123724356957945L7.0710678118654755,6.123724356957945Z\" fill=\"#ccc\" stroke=\"#555\" stroke-width=\"1\"></path></g><g class=\"mark-symbol role-mark\" role=\"graphics-symbol\" aria-roledescription=\"symbol mark container\"><path transform=\"translate(360,360)\" d=\"M8.660254037844387,0A8.660254037844387,8.660254037844387,0,1,1,-8.660254037844387,0A8.660254037844387,8.660254037844387,0,1,1,8.660254037844387,0\" fill=\"#f00\" stroke=\"#fff\"></path><path transform=\"translate(360,200)\" d=\"M8.660254037844387,0A8.660254037844387,8.660254037844387,0,1,1,-8.660254037844387,0A8.660254037844387,8.660254037844387,0,1,1,8.660254037844387,0\" fill=\"#f00\" stroke=\"#fff\"></path><path transform=\"translate(360,520)\" d=\"M8.660254037844387,0A8.660254037844387,8.660254037844387,0,1,1,-8.660254037844387,0A8.660254037844387,8.660254037844387,0,1,1,8.660254037844387,0\" fill=\"#f00\" stroke=\"#fff\"></path><path transform=\"translate(500,360)\" d=\"M8.660254037844387,0A8.660254037844387,8.660254037844387,0,1,1,-8.660254037844387,0A8.660254037844387,8.660254037844387,0,1,1,8.660254037844387,0\" fill=\"#f00\" stroke=\"#fff\"></path><path transform=\"translate(150,290)\" d=\"M8.660254037844387,0A8.660254037844387,8.660254037844387,0,1,1,-8.660254037844387,0A8.660254037844387,8.660254037844387,0,1,1,8.660254037844387,0\" fill=\"#0f0\" stroke=\"#fff\"></path><path transform=\"translate(180,500)\" d=\"M8.660254037844387,0A8.660254037844387,8.660254037844387,0,1,1,-8.660254037844387,0A8.660254037844387,8.660254037844387,0,1,1,8.660254037844387,0\" fill=\"#0f0\" stroke=\"#fff\"></path><path transform=\"translate(420,140)\" d=\"M8.660254037844387,0A8.660254037844387,8.660254037844387,0,1,1,-8.660254037844387,0A8.660254037844387,8.660254037844387,0,1,1,8.660254037844387,0\" fill=\"#00f\" stroke=\"#fff\"></path><path transform=\"translate(470,160)\" d=\"M8.660254037844387,0A8.660254037844387,8.660254037844387,0,1,1,-8.660254037844387,0A8.660254037844387,8.660254037844387,0,1,1,8.660254037844387,0\" fill=\"#00f\" stroke=\"#fff\"></path><path transform=\"translate(520,180)\" d=\"M8.660254037844387,0A8.660254037844387,8.660254037844387,0,1,1,-8.660254037844387,0A8.660254037844387,8.660254037844387,0,1,1,8.660254037844387,0\" fill=\"#00f\" stroke=\"#fff\"></path><path transform=\"translate(530,220)\" d=\"M8.660254037844387,0A8.660254037844387,8.660254037844387,0,1,1,-8.660254037844387,0A8.660254037844387,8.660254037844387,0,1,1,8.660254037844387,0\" fill=\"#00f\" stroke=\"#fff\"></path><path transform=\"translate(580,250)\" d=\"M8.660254037844387,0A8.660254037844387,8.660254037844387,0,1,1,-8.660254037844387,0A8.660254037844387,8.660254037844387,0,1,1,8.660254037844387,0\" fill=\"#00f\" stroke=\"#fff\"></path><path transform=\"translate(520,300)\" d=\"M8.660254037844387,0A8.660254037844387,8.660254037844387,0,1,1,-8.660254037844387,0A8.660254037844387,8.660254037844387,0,1,1,8.660254037844387,0\" fill=\"#00f\" stroke=\"#fff\"></path><path transform=\"translate(600,320)\" d=\"M8.660254037844387,0A8.660254037844387,8.660254037844387,0,1,1,-8.660254037844387,0A8.660254037844387,8.660254037844387,0,1,1,8.660254037844387,0\" fill=\"#00f\" stroke=\"#fff\"></path><path transform=\"translate(430,440)\" d=\"M8.660254037844387,0A8.660254037844387,8.660254037844387,0,1,1,-8.660254037844387,0A8.660254037844387,8.660254037844387,0,1,1,8.660254037844387,0\" fill=\"#00f\" stroke=\"#fff\"></path><path transform=\"translate(600,440)\" d=\"M8.660254037844387,0A8.660254037844387,8.660254037844387,0,1,1,-8.660254037844387,0A8.660254037844387,8.660254037844387,0,1,1,8.660254037844387,0\" fill=\"#00f\" stroke=\"#fff\"></path><path transform=\"translate(430,580)\" d=\"M8.660254037844387,0A8.660254037844387,8.660254037844387,0,1,1,-8.660254037844387,0A8.660254037844387,8.660254037844387,0,1,1,8.660254037844387,0\" fill=\"#00f\" stroke=\"#fff\"></path><path transform=\"translate(290,580)\" d=\"M8.660254037844387,0A8.660254037844387,8.660254037844387,0,1,1,-8.660254037844387,0A8.660254037844387,8.660254037844387,0,1,1,8.660254037844387,0\" fill=\"#00f\" stroke=\"#fff\"></path><path transform=\"translate(300,140)\" d=\"M8.660254037844387,0A8.660254037844387,8.660254037844387,0,1,1,-8.660254037844387,0A8.660254037844387,8.660254037844387,0,1,1,8.660254037844387,0\" fill=\"#00f\" stroke=\"#fff\"></path><path transform=\"translate(230,180)\" d=\"M8.660254037844387,0A8.660254037844387,8.660254037844387,0,1,1,-8.660254037844387,0A8.660254037844387,8.660254037844387,0,1,1,8.660254037844387,0\" fill=\"#00f\" stroke=\"#fff\"></path><path transform=\"translate(250,240)\" d=\"M8.660254037844387,0A8.660254037844387,8.660254037844387,0,1,1,-8.660254037844387,0A8.660254037844387,8.660254037844387,0,1,1,8.660254037844387,0\" fill=\"#00f\" stroke=\"#fff\"></path><path transform=\"translate(510,500)\" d=\"M8.660254037844387,0A8.660254037844387,8.660254037844387,0,1,1,-8.660254037844387,0A8.660254037844387,8.660254037844387,0,1,1,8.660254037844387,0\" fill=\"#0ff\" stroke=\"#fff\"></path><path transform=\"translate(140,345)\" d=\"M8.660254037844387,0A8.660254037844387,8.660254037844387,0,1,1,-8.660254037844387,0A8.660254037844387,8.660254037844387,0,1,1,8.660254037844387,0\" fill=\"#0ff\" stroke=\"#fff\"></path><path transform=\"translate(130,440)\" d=\"M8.660254037844387,0A8.660254037844387,8.660254037844387,0,1,1,-8.660254037844387,0A8.660254037844387,8.660254037844387,0,1,1,8.660254037844387,0\" fill=\"#0ff\" stroke=\"#fff\"></path></g><g class=\"mark-text role-mark\" role=\"graphics-object\" aria-roledescription=\"text mark container\"><text text-anchor=\"start\" transform=\"translate(372,355)\" font-family=\"sans-serif\" font-size=\"15px\" fill=\"#000\">spaceindex</text><text text-anchor=\"start\" transform=\"translate(372,195)\" font-family=\"sans-serif\" font-size=\"15px\" fill=\"#000\">boundingbox</text><text text-anchor=\"start\" transform=\"translate(372,515)\" font-family=\"sans-serif\" font-size=\"15px\" fill=\"#000\">coordintervals</text><text text-anchor=\"start\" transform=\"translate(512,355)\" font-family=\"sans-serif\" font-size=\"15px\" fill=\"#000\">boxcovering</text><text text-anchor=\"start\" transform=\"translate(162,285)\" font-family=\"sans-serif\" font-size=\"15px\" fill=\"#000\">fragmentlines</text><text text-anchor=\"start\" transform=\"translate(192,495)\" font-family=\"sans-serif\" font-size=\"15px\" fill=\"#000\">decomposition</text><text text-anchor=\"start\" transform=\"translate(432,135)\" font-family=\"sans-serif\" font-size=\"15px\" fill=\"#000\">setdiff</text><text text-anchor=\"start\" transform=\"translate(482,155)\" font-family=\"sans-serif\" font-size=\"15px\" fill=\"#000\">hcat</text><text text-anchor=\"start\" transform=\"translate(532,175)\" font-family=\"sans-serif\" font-size=\"15px\" fill=\"#000\">zip</text><text text-anchor=\"start\" transform=\"translate(542,215)\" font-family=\"sans-serif\" font-size=\"15px\" fill=\"#000\">size</text><text text-anchor=\"start\" transform=\"translate(592,245)\" font-family=\"sans-serif\" font-size=\"15px\" fill=\"#000\">intersect</text><text text-anchor=\"start\" transform=\"translate(532,295)\" font-family=\"sans-serif\" font-size=\"15px\" fill=\"#000\">tuple</text><text text-anchor=\"start\" transform=\"translate(612,315)\" font-family=\"sans-serif\" font-size=\"15px\" fill=\"#000\">length</text><text text-anchor=\"start\" transform=\"translate(442,435)\" font-family=\"sans-serif\" font-size=\"15px\" fill=\"#000\">enumerate</text><text text-anchor=\"start\" transform=\"translate(612,435)\" font-family=\"sans-serif\" font-size=\"15px\" fill=\"#000\">append!</text><text text-anchor=\"start\" transform=\"translate(442,575)\" font-family=\"sans-serif\" font-size=\"15px\" fill=\"#000\">haskey</text><text text-anchor=\"start\" transform=\"translate(302,575)\" font-family=\"sans-serif\" font-size=\"15px\" fill=\"#000\">push!</text><text text-anchor=\"start\" transform=\"translate(312,135)\" font-family=\"sans-serif\" font-size=\"15px\" fill=\"#000\">mapslices</text><text text-anchor=\"start\" transform=\"translate(242,175)\" font-family=\"sans-serif\" font-size=\"15px\" fill=\"#000\">min</text><text text-anchor=\"start\" transform=\"translate(262,235)\" font-family=\"sans-serif\" font-size=\"15px\" fill=\"#000\">max</text><text text-anchor=\"start\" transform=\"translate(522,495)\" font-family=\"sans-serif\" font-size=\"15px\" fill=\"#000\">addIntersection!</text><text text-anchor=\"start\" transform=\"translate(152,340)\" font-family=\"sans-serif\" font-size=\"15px\" fill=\"#000\">createIntervalTree</text><text text-anchor=\"start\" transform=\"translate(142,435)\" font-family=\"sans-serif\" font-size=\"15px\" fill=\"#000\">removeSelfIntersection!</text></g></g><path class=\"foreground\" aria-hidden=\"true\" d=\"\" display=\"none\"></path></g></g></g></svg>\n"
      ],
      "text/plain": [
       "@vgplot(\n",
       "    height=720,\n",
       "    width=720,\n",
       "    padding=5,\n",
       "    marks=[\n",
       "        {\n",
       "            encode={\n",
       "                update={\n",
       "                    stroke={\n",
       "                        value=\"#ccc\"\n",
       "                    },\n",
       "                    path={\n",
       "                        field=\"path\"\n",
       "                    }\n",
       "                }\n",
       "            },\n",
       "            from={\n",
       "                data=\"edges\"\n",
       "            },\n",
       "            type=\"path\"\n",
       "        },\n",
       "        {\n",
       "            type=\"symbol\",\n",
       "            from={\n",
       "                data=\"arrows\"\n",
       "            },\n",
       "            encode={\n",
       "                update={\n",
       "                    shape={\n",
       "                        value=\"triangle-up\"\n",
       "                    },\n",
       "                    x={\n",
       "                        field=\"x\"\n",
       "                    },\n",
       "                    angle={\n",
       "                        field=\"angle\"\n",
       "                    },\n",
       "                    y={\n",
       "                        field=\"y\"\n",
       "                    }\n",
       "                },\n",
       "                enter={\n",
       "                    shape={\n",
       "                        value=\"triangle-up\"\n",
       "                    },\n",
       "                    fill={\n",
       "                        value=\"#ccc\"\n",
       "                    },\n",
       "                    size={\n",
       "                        value=200\n",
       "                    },\n",
       "                    stroke={\n",
       "                        value=\"#555\"\n",
       "                    },\n",
       "                    strokeWidth={\n",
       "                        value=1\n",
       "                    }\n",
       "                }\n",
       "            }\n",
       "        },\n",
       "        {\n",
       "            encode={\n",
       "                update={\n",
       "                    x={\n",
       "                        field=\"x\"\n",
       "                    },\n",
       "                    fill={\n",
       "                        field=\"color\"\n",
       "                    },\n",
       "                    y={\n",
       "                        field=\"y\"\n",
       "                    }\n",
       "                },\n",
       "                enter={\n",
       "                    stroke={\n",
       "                        value=\"#fff\"\n",
       "                    },\n",
       "                    size={\n",
       "                        value=300\n",
       "                    }\n",
       "                }\n",
       "            },\n",
       "            from={\n",
       "                data=\"nodes\"\n",
       "            },\n",
       "            type=\"symbol\"\n",
       "        },\n",
       "        {\n",
       "            encode={\n",
       "                update={\n",
       "                    align={\n",
       "                        signal=\"datum.children ? 'right' : 'left'\"\n",
       "                    },\n",
       "                    x={\n",
       "                        field=\"x\"\n",
       "                    },\n",
       "                    dx={\n",
       "                        value=12\n",
       "                    },\n",
       "                    y={\n",
       "                        field=\"y\"\n",
       "                    },\n",
       "                    dy={\n",
       "                        value=-10\n",
       "                    }\n",
       "                },\n",
       "                enter={\n",
       "                    fontSize={\n",
       "                        value=15\n",
       "                    },\n",
       "                    text={\n",
       "                        field=\"name\"\n",
       "                    },\n",
       "                    baseline={\n",
       "                        value=\"middle\"\n",
       "                    }\n",
       "                }\n",
       "            },\n",
       "            from={\n",
       "                data=\"nodes\"\n",
       "            },\n",
       "            type=\"text\"\n",
       "        }\n",
       "    ],\n",
       "    data=[\n",
       "        {\n",
       "            name=\"nodes\",\n",
       "            values=[\n",
       "                {\n",
       "                    id=1,\n",
       "                    name=\"spaceindex\",\n",
       "                    x=360,\n",
       "                    y=360,\n",
       "                    color=\"#f00\"\n",
       "                },\n",
       "                {\n",
       "                    id=2,\n",
       "                    name=\"boundingbox\",\n",
       "                    x=360,\n",
       "                    y=200,\n",
       "                    color=\"#f00\"\n",
       "                },\n",
       "                {\n",
       "                    id=3,\n",
       "                    name=\"coordintervals\",\n",
       "                    x=360,\n",
       "                    y=520,\n",
       "                    color=\"#f00\"\n",
       "                },\n",
       "                {\n",
       "                    id=4,\n",
       "                    name=\"boxcovering\",\n",
       "                    x=500,\n",
       "                    y=360,\n",
       "                    color=\"#f00\"\n",
       "                },\n",
       "                {\n",
       "                    id=5,\n",
       "                    name=\"fragmentlines\",\n",
       "                    x=150,\n",
       "                    y=290,\n",
       "                    color=\"#0f0\"\n",
       "                },\n",
       "                {\n",
       "                    id=6,\n",
       "                    name=\"decomposition\",\n",
       "                    x=180,\n",
       "                    y=500,\n",
       "                    color=\"#0f0\"\n",
       "                },\n",
       "                {\n",
       "                    id=7,\n",
       "                    name=\"setdiff\",\n",
       "                    x=420,\n",
       "                    y=140,\n",
       "                    color=\"#00f\"\n",
       "                },\n",
       "                {\n",
       "                    id=8,\n",
       "                    name=\"hcat\",\n",
       "                    x=470,\n",
       "                    y=160,\n",
       "                    color=\"#00f\"\n",
       "                },\n",
       "                {\n",
       "                    id=9,\n",
       "                    name=\"zip\",\n",
       "                    x=520,\n",
       "                    y=180,\n",
       "                    color=\"#00f\"\n",
       "                },\n",
       "                {\n",
       "                    id=10,\n",
       "                    name=\"size\",\n",
       "                    x=530,\n",
       "                    y=220,\n",
       "                    color=\"#00f\"\n",
       "                },\n",
       "                {\n",
       "                    id=11,\n",
       "                    name=\"intersect\",\n",
       "                    x=580,\n",
       "                    y=250,\n",
       "                    color=\"#00f\"\n",
       "                },\n",
       "                {\n",
       "                    id=12,\n",
       "                    name=\"tuple\",\n",
       "                    x=520,\n",
       "                    y=300,\n",
       "                    color=\"#00f\"\n",
       "                },\n",
       "                {\n",
       "                    id=13,\n",
       "                    name=\"length\",\n",
       "                    x=600,\n",
       "                    y=320,\n",
       "                    color=\"#00f\"\n",
       "                },\n",
       "                {\n",
       "                    id=14,\n",
       "                    name=\"enumerate\",\n",
       "                    x=430,\n",
       "                    y=440,\n",
       "                    color=\"#00f\"\n",
       "                },\n",
       "                {\n",
       "                    id=15,\n",
       "                    name=\"append!\",\n",
       "                    x=600,\n",
       "                    y=440,\n",
       "                    color=\"#00f\"\n",
       "                },\n",
       "                {\n",
       "                    id=16,\n",
       "                    name=\"haskey\",\n",
       "                    x=430,\n",
       "                    y=580,\n",
       "                    color=\"#00f\"\n",
       "                },\n",
       "                {\n",
       "                    id=17,\n",
       "                    name=\"push!\",\n",
       "                    x=290,\n",
       "                    y=580,\n",
       "                    color=\"#00f\"\n",
       "                },\n",
       "                {\n",
       "                    id=18,\n",
       "                    name=\"mapslices\",\n",
       "                    x=300,\n",
       "                    y=140,\n",
       "                    color=\"#00f\"\n",
       "                },\n",
       "                {\n",
       "                    id=19,\n",
       "                    name=\"min\",\n",
       "                    x=230,\n",
       "                    y=180,\n",
       "                    color=\"#00f\"\n",
       "                },\n",
       "                {\n",
       "                    id=20,\n",
       "                    name=\"max\",\n",
       "                    x=250,\n",
       "                    y=240,\n",
       "                    color=\"#00f\"\n",
       "                },\n",
       "                {\n",
       "                    id=21,\n",
       "                    name=\"addIntersection!\",\n",
       "                    x=510,\n",
       "                    y=500,\n",
       "                    color=\"#0ff\"\n",
       "                },\n",
       "                {\n",
       "                    id=22,\n",
       "                    name=\"createIntervalTree\",\n",
       "                    x=140,\n",
       "                    y=345,\n",
       "                    color=\"#0ff\"\n",
       "                },\n",
       "                {\n",
       "                    id=23,\n",
       "                    name=\"removeSelfIntersection!\",\n",
       "                    x=130,\n",
       "                    y=440,\n",
       "                    color=\"#0ff\"\n",
       "                }\n",
       "            ],\n",
       "            transform=[\n",
       "                {\n",
       "                    type=\"formula\",\n",
       "                    expr=\"atan2(datum.y, datum.x)\",\n",
       "                    as=\"angle\"\n",
       "                },\n",
       "                {\n",
       "                    type=\"formula\",\n",
       "                    expr=\"sqrt(datum.y * datum.y + datum.x * datum.x)\",\n",
       "                    as=\"radius\"\n",
       "                }\n",
       "            ]\n",
       "        },\n",
       "        {\n",
       "            name=\"edges\",\n",
       "            values=[\n",
       "                {\n",
       "                    s=1,\n",
       "                    t=2\n",
       "                },\n",
       "                {\n",
       "                    s=1,\n",
       "                    t=7\n",
       "                },\n",
       "                {\n",
       "                    s=1,\n",
       "                    t=8\n",
       "                },\n",
       "                {\n",
       "                    s=1,\n",
       "                    t=9\n",
       "                },\n",
       "                {\n",
       "                    s=1,\n",
       "                    t=10\n",
       "                },\n",
       "                {\n",
       "                    s=1,\n",
       "                    t=11\n",
       "                },\n",
       "                {\n",
       "                    s=1,\n",
       "                    t=12\n",
       "                },\n",
       "                {\n",
       "                    s=1,\n",
       "                    t=13\n",
       "                },\n",
       "                {\n",
       "                    s=1,\n",
       "                    t=3\n",
       "                },\n",
       "                {\n",
       "                    s=1,\n",
       "                    t=4\n",
       "                },\n",
       "                {\n",
       "                    s=1,\n",
       "                    t=22\n",
       "                },\n",
       "                {\n",
       "                    s=1,\n",
       "                    t=23\n",
       "                },\n",
       "                {\n",
       "                    s=2,\n",
       "                    t=18\n",
       "                },\n",
       "                {\n",
       "                    s=2,\n",
       "                    t=19\n",
       "                },\n",
       "                {\n",
       "                    s=2,\n",
       "                    t=20\n",
       "                },\n",
       "                {\n",
       "                    s=3,\n",
       "                    t=14\n",
       "                },\n",
       "                {\n",
       "                    s=3,\n",
       "                    t=16\n",
       "                },\n",
       "                {\n",
       "                    s=3,\n",
       "                    t=17\n",
       "                },\n",
       "                {\n",
       "                    s=4,\n",
       "                    t=11\n",
       "                },\n",
       "                {\n",
       "                    s=4,\n",
       "                    t=12\n",
       "                },\n",
       "                {\n",
       "                    s=4,\n",
       "                    t=13\n",
       "                },\n",
       "                {\n",
       "                    s=4,\n",
       "                    t=14\n",
       "                },\n",
       "                {\n",
       "                    s=4,\n",
       "                    t=15\n",
       "                },\n",
       "                {\n",
       "                    s=4,\n",
       "                    t=21\n",
       "                },\n",
       "                {\n",
       "                    s=5,\n",
       "                    t=1\n",
       "                },\n",
       "                {\n",
       "                    s=6,\n",
       "                    t=1\n",
       "                }\n",
       "            ],\n",
       "            transform=[\n",
       "                {\n",
       "                    type=\"lookup\",\n",
       "                    from=\"nodes\",\n",
       "                    key=\"id\",\n",
       "                    fields=[\n",
       "                        \"s\",\n",
       "                        \"t\"\n",
       "                    ],\n",
       "                    as=[\n",
       "                        \"source\",\n",
       "                        \"target\"\n",
       "                    ]\n",
       "                },\n",
       "                {\n",
       "                    type=\"linkpath\",\n",
       "                    shape=\"line\"\n",
       "                }\n",
       "            ]\n",
       "        },\n",
       "        {\n",
       "            name=\"arrows\",\n",
       "            values=[\n",
       "                {\n",
       "                    id=1,\n",
       "                    x=360,\n",
       "                    y=215,\n",
       "                    angle=0\n",
       "                },\n",
       "                {\n",
       "                    id=2,\n",
       "                    x=416,\n",
       "                    y=154,\n",
       "                    angle=15\n",
       "                },\n",
       "                {\n",
       "                    id=3,\n",
       "                    x=463,\n",
       "                    y=172,\n",
       "                    angle=25\n",
       "                },\n",
       "                {\n",
       "                    id=4,\n",
       "                    x=511,\n",
       "                    y=191,\n",
       "                    angle=37\n",
       "                },\n",
       "                {\n",
       "                    id=5,\n",
       "                    x=520,\n",
       "                    y=230,\n",
       "                    angle=45\n",
       "                },\n",
       "                {\n",
       "                    id=6,\n",
       "                    x=567,\n",
       "                    y=255,\n",
       "                    angle=60\n",
       "                },\n",
       "                {\n",
       "                    id=7,\n",
       "                    x=505,\n",
       "                    y=305,\n",
       "                    angle=72\n",
       "                },\n",
       "                {\n",
       "                    id=8,\n",
       "                    x=585,\n",
       "                    y=322,\n",
       "                    angle=82\n",
       "                },\n",
       "                {\n",
       "                    id=9,\n",
       "                    x=485,\n",
       "                    y=360,\n",
       "                    angle=90\n",
       "                },\n",
       "                {\n",
       "                    id=10,\n",
       "                    x=360,\n",
       "                    y=505,\n",
       "                    angle=180\n",
       "                },\n",
       "                {\n",
       "                    id=11,\n",
       "                    x=348,\n",
       "                    y=369,\n",
       "                    angle=47\n",
       "                },\n",
       "                {\n",
       "                    id=12,\n",
       "                    x=346,\n",
       "                    y=356,\n",
       "                    angle=113\n",
       "                },\n",
       "                {\n",
       "                    id=13,\n",
       "                    x=310,\n",
       "                    y=150,\n",
       "                    angle=-40\n",
       "                },\n",
       "                {\n",
       "                    id=14,\n",
       "                    x=245,\n",
       "                    y=183,\n",
       "                    angle=-80\n",
       "                },\n",
       "                {\n",
       "                    id=15,\n",
       "                    x=263,\n",
       "                    y=234,\n",
       "                    angle=-115\n",
       "                },\n",
       "                {\n",
       "                    id=16,\n",
       "                    x=573,\n",
       "                    y=261,\n",
       "                    angle=30\n",
       "                },\n",
       "                {\n",
       "                    id=17,\n",
       "                    x=515,\n",
       "                    y=315,\n",
       "                    angle=12\n",
       "                },\n",
       "                {\n",
       "                    id=18,\n",
       "                    x=587,\n",
       "                    y=326,\n",
       "                    angle=75\n",
       "                },\n",
       "                {\n",
       "                    id=19,\n",
       "                    x=589,\n",
       "                    y=429,\n",
       "                    angle=135\n",
       "                },\n",
       "                {\n",
       "                    id=20,\n",
       "                    x=440,\n",
       "                    y=430,\n",
       "                    angle=-135\n",
       "                },\n",
       "                {\n",
       "                    id=21,\n",
       "                    x=420,\n",
       "                    y=450,\n",
       "                    angle=42\n",
       "                },\n",
       "                {\n",
       "                    id=22,\n",
       "                    x=419,\n",
       "                    y=569,\n",
       "                    angle=135\n",
       "                },\n",
       "                {\n",
       "                    id=23,\n",
       "                    x=301,\n",
       "                    y=569,\n",
       "                    angle=-135\n",
       "                },\n",
       "                {\n",
       "                    id=24,\n",
       "                    x=510,\n",
       "                    y=485,\n",
       "                    angle=178\n",
       "                },\n",
       "                {\n",
       "                    id=25,\n",
       "                    x=155,\n",
       "                    y=346,\n",
       "                    angle=-87\n",
       "                },\n",
       "                {\n",
       "                    id=26,\n",
       "                    x=145,\n",
       "                    y=436,\n",
       "                    angle=-118\n",
       "                }\n",
       "            ]\n",
       "        }\n",
       "    ]\n",
       ")"
      ]
     },
     "execution_count": 2,
     "metadata": {},
     "output_type": "execute_result"
    }
   ],
   "source": [
    "using Vega\n",
    "using VegaDatasets\n",
    "plot = @vgplot(\n",
    "    height=720,\n",
    "    width=720,\n",
    "    padding=5,\n",
    "    marks=[\n",
    "        {\n",
    "            encode={\n",
    "                update={\n",
    "                    stroke={\n",
    "                        value=\"#ccc\"\n",
    "                    },\n",
    "                    path={\n",
    "                        field=\"path\"\n",
    "                    }\n",
    "                }\n",
    "            },\n",
    "            from={\n",
    "                data=\"edges\"\n",
    "            },\n",
    "            type=\"path\"\n",
    "        },\n",
    "        {\n",
    "            type=\"symbol\",\n",
    "            from={\n",
    "                data=\"arrows\"\n",
    "            },\n",
    "            encode={\n",
    "                update={\n",
    "                    shape={\n",
    "                        value=\"triangle-up\"\n",
    "                    },\n",
    "                    x={\n",
    "                        field=\"x\"\n",
    "                    },\n",
    "                    angle={\n",
    "                        field=\"angle\"\n",
    "                    },\n",
    "                    y={\n",
    "                        field=\"y\"\n",
    "                    }\n",
    "                },\n",
    "                enter={\n",
    "                    shape={\n",
    "                        value=\"triangle-up\"\n",
    "                    },\n",
    "                    fill={\n",
    "                        value=\"#ccc\"\n",
    "                    },\n",
    "                    size={\n",
    "                        value=200\n",
    "                    },\n",
    "                    stroke={\n",
    "                        value=\"#555\"\n",
    "                    },\n",
    "                    strokeWidth={\n",
    "                        value=1\n",
    "                    }\n",
    "                }\n",
    "            }\n",
    "        },\n",
    "        {\n",
    "            encode={\n",
    "                update={\n",
    "                    x={\n",
    "                        field=\"x\"\n",
    "                    },\n",
    "                    fill={\n",
    "                        field=\"color\"\n",
    "                    },\n",
    "                    y={\n",
    "                        field=\"y\"\n",
    "                    }\n",
    "                },\n",
    "                enter={\n",
    "                    stroke={\n",
    "                        value=\"#fff\"\n",
    "                    },\n",
    "                    size={\n",
    "                        value=300\n",
    "                    }\n",
    "                }\n",
    "            },\n",
    "            from={\n",
    "                data=\"nodes\"\n",
    "            },\n",
    "            type=\"symbol\"\n",
    "        },\n",
    "        {\n",
    "            encode={\n",
    "                update={\n",
    "                    align={\n",
    "                        signal=\"datum.children ? 'right' : 'left'\"\n",
    "                    },\n",
    "                    x={\n",
    "                        field=\"x\"\n",
    "                    },\n",
    "                    dx={\n",
    "                        value=12                    \n",
    "                    },\n",
    "                    y={\n",
    "                        field=\"y\"\n",
    "                    },\n",
    "                    dy={\n",
    "                        value=-10                    \n",
    "                    },\n",
    "                },\n",
    "                enter={\n",
    "                    fontSize={\n",
    "                        value=15\n",
    "                    },\n",
    "                    text={\n",
    "                        field=\"name\"\n",
    "                    },\n",
    "                    baseline={\n",
    "                        value=\"middle\"\n",
    "                    }\n",
    "                }\n",
    "            },\n",
    "            from={\n",
    "                data=\"nodes\"\n",
    "            },\n",
    "            type=\"text\"\n",
    "        }\n",
    "    ],\n",
    "    data=[\n",
    "        {\n",
    "            name=\"nodes\",\n",
    "            values= [\n",
    "                {id= 1, name=\"spaceindex\", x=  360, y=360, color=\"#f00\"},\n",
    "                {id= 2, name=\"boundingbox\", x=  360, y=200, color=\"#f00\"},\n",
    "                {id= 3, name=\"coordintervals\", x=  360, y=520, color=\"#f00\"},\n",
    "                {id= 4, name=\"boxcovering\", x=  500, y=360, color=\"#f00\"},\n",
    "                {id= 5, name=\"fragmentlines\", x=  150, y=290, color=\"#0f0\"},\n",
    "                {id= 6, name=\"decomposition\", x=  180, y=500, color=\"#0f0\"},\n",
    "                {id= 7, name=\"setdiff\", x=  420, y=140, color=\"#00f\"},\n",
    "                {id= 8, name=\"hcat\", x=  470, y=160, color=\"#00f\"},\n",
    "                {id= 9, name=\"zip\", x=  520, y=180, color=\"#00f\"},\n",
    "                {id= 10, name=\"size\", x=  530, y=220, color=\"#00f\"},\n",
    "                {id= 11, name=\"intersect\", x=  580, y=250, color=\"#00f\"},\n",
    "                {id= 12, name=\"tuple\", x=  520, y=300, color=\"#00f\"},\n",
    "                {id= 13, name=\"length\", x=  600, y=320, color=\"#00f\"},\n",
    "                {id= 14, name=\"enumerate\", x=  430, y=440, color=\"#00f\"},\n",
    "                {id= 15, name=\"append!\", x=  600, y=440, color=\"#00f\"},\n",
    "                {id= 16, name=\"haskey\", x=  430, y=580, color=\"#00f\"},\n",
    "                {id= 17, name=\"push!\", x=  290, y=580, color=\"#00f\"},\n",
    "                {id= 18, name=\"mapslices\", x=  300, y=140, color=\"#00f\"},\n",
    "                {id= 19, name=\"min\", x=  230, y=180, color=\"#00f\"},\n",
    "                {id= 20, name=\"max\", x=  250, y=240, color=\"#00f\"},\n",
    "                {id= 21, name=\"addIntersection!\", x=  510, y=500, color=\"#0ff\"},\n",
    "                {id= 22, name=\"createIntervalTree\", x=  140, y=345, color=\"#0ff\"},\n",
    "                {id= 23, name=\"removeSelfIntersection!\", x=  130, y=440, color=\"#0ff\"},\n",
    "              ],\n",
    "            transform= [\n",
    "                {\n",
    "                  type= \"formula\",\n",
    "                  expr= \"atan2(datum.y, datum.x)\",\n",
    "                  as= \"angle\"\n",
    "                },\n",
    "                {\n",
    "                  type= \"formula\",\n",
    "                  expr= \"sqrt(datum.y * datum.y + datum.x * datum.x)\",\n",
    "                  as= \"radius\"\n",
    "                }\n",
    "              ]\n",
    "        },\n",
    "        {\n",
    "              name= \"edges\",\n",
    "              values= [\n",
    "                {s=1, t=2},\n",
    "                {s=1, t=7},\n",
    "                {s=1, t=8},\n",
    "                {s=1, t=9},\n",
    "                {s=1, t=10},\n",
    "                {s=1, t=11},\n",
    "                {s=1, t=12},\n",
    "                {s=1, t=13},\n",
    "                {s=1, t=3},\n",
    "                {s=1, t=4},\n",
    "                {s=1, t=22},\n",
    "                {s=1, t=23},\n",
    "                {s=2, t=18},\n",
    "                {s=2, t=19},\n",
    "                {s=2, t=20},\n",
    "                {s=3, t=14},\n",
    "                {s=3, t=16},\n",
    "                {s=3, t=17},\n",
    "                {s=4, t=11},\n",
    "                {s=4, t=12},\n",
    "                {s=4, t=13},\n",
    "                {s=4, t=14},\n",
    "                {s=4, t=15},\n",
    "                {s=4, t=21},\n",
    "                {s=5, t=1},\n",
    "                {s=6, t=1},\n",
    "              ],\n",
    "              transform= [\n",
    "                {\n",
    "                  type= \"lookup\",\n",
    "                  from= \"nodes\",\n",
    "                  key= \"id\",\n",
    "                  fields= [\"s\", \"t\"],\n",
    "                  as= [\"source\", \"target\"]\n",
    "                },\n",
    "                {\n",
    "                  type= \"linkpath\",\n",
    "                  shape= \"line\"\n",
    "                }\n",
    "            ],\n",
    "        },\n",
    "        {\n",
    "            name=\"arrows\",\n",
    "            values=[\n",
    "                {id=1, x=360, y=215, angle=0},\n",
    "                {id=2, x=416, y=154, angle=15},\n",
    "                {id=3, x=463, y=172, angle=25},\n",
    "                {id=4, x=511, y=191, angle=37},\n",
    "                {id=5, x=520, y=230, angle=45},\n",
    "                {id=6, x=567, y=255, angle=60},\n",
    "                {id=7, x=505, y=305, angle=72},\n",
    "                {id=8, x=585, y=322, angle=82},\n",
    "                {id=9, x=485, y=360, angle=90},\n",
    "                {id=10, x=360, y=505, angle=180},\n",
    "                {id=11, x=348, y=369, angle=47},\n",
    "                {id=12, x=346, y=356, angle=113},\n",
    "                {id=13, x=310, y=150, angle=-40},\n",
    "                {id=14, x=245, y=183, angle=-80},\n",
    "                {id=15, x=263, y=234, angle=-115},\n",
    "                {id=16, x=573, y=261, angle=30},\n",
    "                {id=17, x=515, y=315, angle=12},\n",
    "                {id=18, x=587, y=326, angle=75},\n",
    "                {id=19, x=589, y=429, angle=135},\n",
    "                {id=20, x=440, y=430, angle=-135},\n",
    "                {id=21, x=420, y=450, angle=42},\n",
    "                {id=22, x=419, y=569, angle=135},\n",
    "                {id=23, x=301, y=569, angle=-135},\n",
    "                {id=24, x=510, y=485, angle=178},\n",
    "                {id=25, x=155, y=346, angle=-87},\n",
    "                {id=26, x=145, y=436, angle=-118},\n",
    "                                            \n",
    "                \n",
    "            ]\n",
    "        }\n",
    "    ]\n",
    ")"
   ]
  },
  {
   "cell_type": "code",
   "execution_count": null,
   "metadata": {},
   "outputs": [],
   "source": [
    "plot |> save(\"functionGraphFinal.svg\")\n",
    "plot |> save(\"functionGraphFinal.pdf\")"
   ]
  }
 ],
 "metadata": {
  "kernelspec": {
   "display_name": "Julia 1.5.2",
   "language": "julia",
   "name": "julia-1.5"
  },
  "language_info": {
   "file_extension": ".jl",
   "mimetype": "application/julia",
   "name": "julia",
   "version": "1.5.2"
  }
 },
 "nbformat": 4,
 "nbformat_minor": 4
}
