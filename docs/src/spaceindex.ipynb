{
 "cells": [
  {
   "cell_type": "markdown",
   "metadata": {},
   "source": [
    "# Analisi e revisione di spaceindex(model::Lar.LAR)"
   ]
  },
  {
   "cell_type": "markdown",
   "metadata": {},
   "source": [
    "#### Versione iniziale di spaceindex\n",
    "spaceindex, dato un modello, restituisce un array di array dove l'elemento i-esimo rappresenta\n",
    "quali intersezioni ha il bounding box i-esimo con gli altri bounding box"
   ]
  },
  {
   "cell_type": "code",
   "execution_count": null,
   "metadata": {},
   "outputs": [],
   "source": [
    "using LinearAlgebraicRepresentation\n",
    "Lar = LinearAlgebraicRepresentation\n",
    "using IntervalTrees"
   ]
  },
  {
   "cell_type": "code",
   "execution_count": null,
   "metadata": {
    "scrolled": true
   },
   "outputs": [],
   "source": [
    "function spaceindex(model::Lar.LAR)::Array{Array{Int,1},1}\n",
    "    V,CV = model[1:2]\n",
    "    dim = size(V,1)\n",
    "    cellpoints = [ V[:,CV[k]]::Lar.Points for k=1:length(CV) ]\n",
    "    #----------------------------------------------------------\n",
    "    bboxes = [hcat(Lar.boundingbox(cell)...) for cell in cellpoints]\n",
    "    xboxdict = Lar.coordintervals(1,bboxes)\n",
    "    yboxdict = Lar.coordintervals(2,bboxes)\n",
    "    # xs,ys are IntervalTree type\n",
    "    xs = IntervalTrees.IntervalMap{Float64, Array}()\n",
    "    for (key,boxset) in xboxdict\n",
    "        xs[tuple(key...)] = boxset\n",
    "    end\n",
    "    ys = IntervalTrees.IntervalMap{Float64, Array}()\n",
    "    for (key,boxset) in yboxdict\n",
    "        ys[tuple(key...)] = boxset\n",
    "    end\n",
    "    xcovers = Lar.boxcovering(bboxes, 1, xs)\n",
    "    ycovers = Lar.boxcovering(bboxes, 2, ys)\n",
    "    covers = [intersect(pair...) for pair in zip(xcovers,ycovers)]\n",
    "\n",
    "    if dim == 3\n",
    "        zboxdict = Lar.coordintervals(3,bboxes)\n",
    "        zs = IntervalTrees.IntervalMap{Float64, Array}()\n",
    "        for (key,boxset) in zboxdict\n",
    "            zs[tuple(key...)] = boxset\n",
    "        end\n",
    "        zcovers = Lar.boxcovering(bboxes, 3, zs)\n",
    "        covers = [intersect(pair...) for pair in zip(zcovers,covers)]\n",
    "    end\n",
    "    # remove each cell from its cover\n",
    "    for k=1:length(covers)\n",
    "        covers[k] = setdiff(covers[k],[k])\n",
    "    end\n",
    "    return covers\n",
    "end\n"
   ]
  },
  {
   "cell_type": "markdown",
   "metadata": {},
   "source": [
    "#### Versione modificata di spaceindex(model::Lar.LAR)"
   ]
  },
  {
   "cell_type": "code",
   "execution_count": null,
   "metadata": {},
   "outputs": [],
   "source": [
    "using LinearAlgebraicRepresentation\n",
    "Lar = LinearAlgebraicRepresentation\n",
    "using IntervalTrees\n",
    "\n",
    "function spaceindex(model::Lar.LAR)::Array{Array{Int,1},1}\n",
    "    V,CV = model[1:2]\n",
    "    dim = size(V,1)\n",
    "    \n",
    "    cellpoints = [ V[:,CV[k]]::Lar.Points for k=1:length(CV) ]\t\t    #calcola le celle\n",
    "    bboxes = [hcat(Lar.boundingbox(cell)...) for cell in cellpoints]    #calcola i boundingbox delle celle\n",
    "    \n",
    "    xboxdict = Lar.coordintervals(1,bboxes)\n",
    "    yboxdict = Lar.coordintervals(2,bboxes)\n",
    "\n",
    "    # xs,ys sono di tipo IntervalTree\n",
    "    xs = createIntervalTree(xboxdict)\n",
    "    ys = createIntervalTree(yboxdict)\n",
    "    \n",
    "    xcovers = Lar.boxcovering(bboxes, 1, xs)                        #lista delle intersezioni dei bb sulla coordinata x\n",
    "    ycovers = Lar.boxcovering(bboxes, 2, ys)                        #lista delle intersezioni dei bb sulla coordinata x\n",
    "    covers = [intersect(pair...) for pair in zip(xcovers,ycovers)]  #lista delle intersezioni dei bb su entrambe le coordinate\n",
    "\n",
    "    if dim == 3\n",
    "    zboxdict = Lar.coordintervals(3,bboxes)\n",
    "    zs = createIntervalTree(zboxdict)\n",
    "    zcovers = Lar.boxcovering(bboxes, 3, zs)\n",
    "    covers = [intersect(pair...) for pair in zip(zcovers,covers)]\n",
    "    end\n",
    "    #rimozione delle intersezioni con se stesso\n",
    "    removeSelfIntersection!(covers)\n",
    "    return covers\n",
    "end"
   ]
  },
  {
   "cell_type": "markdown",
   "metadata": {},
   "source": [
    "#### Variabili utili per testare il funzionamento"
   ]
  },
  {
   "cell_type": "code",
   "execution_count": null,
   "metadata": {},
   "outputs": [],
   "source": [
    "V = hcat([[0.,0],[1,0],[1,1],[0,1],[2,1]]...);    #vertici del modello\n",
    "EV = [[1,2],[2,3],[3,4],[4,1],[1,5]];             #spigoli del modello"
   ]
  },
  {
   "cell_type": "markdown",
   "metadata": {},
   "source": [
    "## Sottofunzioni mono-task"
   ]
  },
  {
   "cell_type": "markdown",
   "metadata": {},
   "source": [
    "#### Versione iniziale di boundingbox\n",
    "La funzione boundingbox serve a creare il bounding Box di una cella,\n",
    "cioè la scatola di misura più piccola (area, volume, ipervolume) entro cui sono contenuti tutti i punti."
   ]
  },
  {
   "cell_type": "code",
   "execution_count": null,
   "metadata": {},
   "outputs": [],
   "source": [
    "function boundingbox(vertices::Lar.Points)\n",
    "    minimum = mapslices(x->min(x...), vertices, dims=2)\n",
    "    maximum = mapslices(x->max(x...), vertices, dims=2)\n",
    "    return minimum, maximum\n",
    " end"
   ]
  },
  {
   "cell_type": "markdown",
   "metadata": {},
   "source": [
    "#### Versione iniziale di coordintervals\n",
    "coordintervals crea un dizionario ordinato dove la chiave è l'intervallo su una coordinata, e come valore associato ha\n",
    "l'indice dell'intervallo corrispondente nel boundig box"
   ]
  },
  {
   "cell_type": "code",
   "execution_count": null,
   "metadata": {},
   "outputs": [],
   "source": [
    "function coordintervals(coord,bboxes)\n",
    "    boxdict = OrderedDict{Array{Float64,1},Array{Int64,1}}()\n",
    "    for (h,box) in enumerate(bboxes)\n",
    "        key = box[coord,:]\n",
    "        if haskey(boxdict,key) == false\n",
    "            boxdict[key] = [h]\n",
    "        else\n",
    "            push!(boxdict[key], h)\n",
    "        end\n",
    "    end\n",
    "    return boxdict\n",
    "end"
   ]
  },
  {
   "cell_type": "markdown",
   "metadata": {},
   "source": [
    "#### createIntervalTree\n",
    "dato un dizionario ordinato crea un intervalTrees cioè una struttura dati che contiene intervalli \n",
    "e che consente di trovare in modo efficiente tutti gli intervalli che si sovrappongono a un determinato intervallo o punto."
   ]
  },
  {
   "cell_type": "code",
   "execution_count": null,
   "metadata": {},
   "outputs": [],
   "source": [
    "function createIntervalTree(boxdict::AbstractDict{Array{Float64,1},Array{Int64,1}})\n",
    "    tree = IntervalTrees.IntervalMap{Float64,Array}()\n",
    "    for (key, boxset) in boxdict\n",
    "        tree[tuple(key...)] = boxset\n",
    "    end\n",
    "    return tree\n",
    "end"
   ]
  },
  {
   "cell_type": "markdown",
   "metadata": {},
   "source": [
    "#### Versione iniziale di boxcovering\n",
    "boxcovering calcola quali bounding box si intersecano tra loro."
   ]
  },
  {
   "cell_type": "code",
   "execution_count": null,
   "metadata": {},
   "outputs": [],
   "source": [
    "function boxcovering(bboxes, index, tree)\n",
    "    covers = [[zero(eltype(Int64))] for k=1:length(bboxes)]\t\t#zero(eltype(Int64)) serve per rendere covers type stable\n",
    "    for (i,boundingbox) in enumerate(bboxes)\n",
    "        extent = bboxes[i][index,:]\n",
    "        iterator = IntervalTrees.intersect(tree, tuple(extent...))\n",
    "        addIntersection!(covers, i, iterator)\n",
    "    end\n",
    "    return covers\n",
    "end"
   ]
  },
  {
   "cell_type": "markdown",
   "metadata": {},
   "source": [
    "#### removeSelfIntersection\n",
    "rimuove le intersezioni contenute in 'covers' che i boundingbox hanno con se stessi"
   ]
  },
  {
   "cell_type": "code",
   "execution_count": null,
   "metadata": {},
   "outputs": [],
   "source": [
    "function removeSelfIntersection!(covers::Array{Array{Int64,1},1})\n",
    "    for k=1:length(covers)\n",
    "        covers[k] = setdiff(covers[k],[k])\t#toglie le intersezioni con se stesso \n",
    "    end\n",
    "end"
   ]
  }
 ],
 "metadata": {
  "kernelspec": {
   "display_name": "Julia 1.5.2",
   "language": "julia",
   "name": "julia-1.5"
  },
  "language_info": {
   "file_extension": ".jl",
   "mimetype": "application/julia",
   "name": "julia",
   "version": "1.5.2"
  }
 },
 "nbformat": 4,
 "nbformat_minor": 4
}
