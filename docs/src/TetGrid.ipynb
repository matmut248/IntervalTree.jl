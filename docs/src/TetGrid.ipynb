{
 "cells": [
  {
   "cell_type": "markdown",
   "metadata": {},
   "source": [
    "# Testing di un caso complesso: TetGrid"
   ]
  },
  {
   "cell_type": "markdown",
   "metadata": {},
   "source": [
    "Si vuole testare l'efficacia della funzione spaceindex() su un modello geometrico complesso. Nello specifico si considera una griglia 2x2x2 dove sono costruiti due tetraedri randomici su ogni punto intero della stessa."
   ]
  },
  {
   "cell_type": "markdown",
   "metadata": {},
   "source": [
    "### Fase di creazione del modello"
   ]
  },
  {
   "cell_type": "code",
   "execution_count": null,
   "metadata": {},
   "outputs": [],
   "source": [
    "using ViewerGL\n",
    "GL = ViewerGL\n",
    "using LinearAlgebraicRepresentation\n",
    "Lar = LinearAlgebraicRepresentation"
   ]
  },
  {
   "cell_type": "markdown",
   "metadata": {},
   "source": [
    "La funzione t1t2(i,j,k) costruisce due tetraedri a partire dalle coordinate i,j,k di un punto intero"
   ]
  },
  {
   "cell_type": "code",
   "execution_count": null,
   "metadata": {},
   "outputs": [],
   "source": [
    "function t1t2(i,j,k)\n",
    "    v1 = rand(3,4).+ [2i,2j,2k]\n",
    "    v2 = rand(3,4).+ [2i,2j,2k]\n",
    "    ev = [[1,2],[1,3],[1,4],[2,3],[2,4],[3,4]]\n",
    "    fv = [[2,3,4],[1,3,4],[1,2,4],[1,2,3]]\n",
    "    t1 = [v1,fv,ev] \n",
    "    t2 = [v2,fv,ev]\n",
    "    return t1,t2\n",
    "end"
   ]
  },
  {
   "cell_type": "markdown",
   "metadata": {},
   "source": [
    "La funzione randomTetGrid() costruisce il modello e lo visualizza"
   ]
  },
  {
   "cell_type": "code",
   "execution_count": null,
   "metadata": {},
   "outputs": [],
   "source": [
    "function randomTetGrid()\n",
    "\n",
    "    N = 3  # N ≥ 2\n",
    "    tets = []\n",
    "    for i=0:N-1, j=0:N-1, k=0:N-1\n",
    "        push!(tets, t1t2(i,j,k)...)\n",
    "    end\n",
    "    V,FV,EV = Lar.struct2lar(Lar.Struct(tets))\n",
    "    \n",
    "    #plot dei tetraedri\n",
    "    GL.VIEW([ GL.GLGrid(V,FV, GL.COLORS[1],1), GL.GLFrame2 ]);\n",
    "\n",
    "    W,(_,EW,FW,_) = Lar.cuboidGrid([N-1,N-1,N-1],true);\n",
    "    U = (W .* 2) .+ 0.5\n",
    "    \n",
    "    #plot del modello\n",
    "    GL.VIEW([ GL.GLGrid(V,FV,GL.COLORS[1],0.5), GL.GLGrid(U,FW,GL.COLORS[1],0.5), GL.GLFrame2 ]);\n",
    "\n",
    "    V,FV,EV = Lar.struct2lar(Lar.Struct([Lar.Struct(tets), Lar.Struct([(U,FW,EW)]) ]))\n",
    "\n",
    "    #plot degli spigoli modello \n",
    "    GL.VIEW([ GL.GLGrid(V,EV, GL.COLORS[1],0.5), GL.GLFrame2 ]);\n",
    "    return (V,FV,EV)\n",
    "end"
   ]
  },
  {
   "cell_type": "code",
   "execution_count": null,
   "metadata": {},
   "outputs": [],
   "source": [
    "V,FV,EV = randomTetGrid()"
   ]
  },
  {
   "cell_type": "markdown",
   "metadata": {},
   "source": [
    "### Fase di testing"
   ]
  },
  {
   "cell_type": "markdown",
   "metadata": {},
   "source": [
    "![intersezione](images/bbintersect.png)"
   ]
  },
  {
   "cell_type": "markdown",
   "metadata": {},
   "source": [
    "Per provare l’effettivo funzionamento di spaceindex bisogna controllare se il boundingbox i-esimo interseca tutti i boundingbox contenuti nella variabile covers[i], e se non interseca quelli che non sono contenuti in covers[i].\n",
    "Di ogni boundingbox conosciamo una coppia di punti (N1, N2) che sono i punti opposti del parallelepipedo rispettivamente più vicini e più lontani dall’origine degli assi (figura 1).\n",
    "Un boundingbox A interseca un boundingbox B se A contiene B (o viceversa), oppure se almeno uno dei suoi punti si trova all’interno di B (figura 2), cioè se, per ogni coordinata x, y e z, vale che \n",
    "N1b <= Na <= N2b"
   ]
  },
  {
   "cell_type": "markdown",
   "metadata": {},
   "source": [
    "Inizialmente si esegue spaceindex() per ricavare le interzezioni tra i vari boundingbox"
   ]
  },
  {
   "cell_type": "code",
   "execution_count": null,
   "metadata": {},
   "outputs": [],
   "source": [
    "using Test\n",
    "include(\"../../src/intervaltree.jl\")\n",
    "\n",
    "cover = spaceindex((V,FV))\n",
    "cells = [V[:,FV[k]] for k = 1:length(FV)]\n",
    "bb = [hcat(boundingbox(c)...) for c in cells]"
   ]
  },
  {
   "cell_type": "markdown",
   "metadata": {},
   "source": [
    "La funzione buildPoints(bb) si occupa di costruire tutte le coppie di vertici opposti del boundingbox bb, a partire dai due vertici conosciuti N1 e N2, attraverso delle opportune combinazioni delle coordinate."
   ]
  },
  {
   "cell_type": "code",
   "execution_count": null,
   "metadata": {},
   "outputs": [],
   "source": [
    "function buildPoints(bb)\n",
    "    x1,y1,z1 = bb[1:3]\n",
    "    x2,y2,z2 = bb[4:6]\n",
    "    p1 = [x1 x2; y1 y2; z1 z2]\n",
    "    p2 = [x2 x1; y1 y2; z1 z2]\n",
    "    p3 = [x1 x2; y2 y1; z1 z2]\n",
    "    p4 = [x1 x2; y1 y2; z2 z1]\n",
    "    return p1,p2,p3,p4\n",
    "end"
   ]
  },
  {
   "cell_type": "markdown",
   "metadata": {},
   "source": [
    "hasIntersection(bb1, bb2) si occupa di controllare se bb1 e bb2 si intersecano utilizzando le proprietà sopra descritte. "
   ]
  },
  {
   "cell_type": "code",
   "execution_count": null,
   "metadata": {},
   "outputs": [],
   "source": [
    "function hasIntersection(bb1,bb2)\n",
    "    #punti del boundingbox bb1\n",
    "    x11,y11,z11 = bb1[1:3]\n",
    "    x12,y12,z12 = bb1[4:6]\n",
    "    #punti del boundingbox bb2\n",
    "    x21,y21,z21 = bb2[1:3]\n",
    "    x22,y22,z22 = bb2[4:6]\n",
    "\n",
    "    #si controlla re il primo vertice di bb1 è contenuto in bb2\n",
    "    #oppure se bb1 contiene bb2 \n",
    "    first = ((x11>=x21 && x11<=x22) || (x11<=x21 && x12>=x22)) && ((y11>=y21 && y11<=y22) || (y11<=y21 && y12>=y22)) && ((z11>=z21 && z11<=z22) || (z11<=z21 && z12>=z22))\n",
    "    #si controlla se il secondo vertice di bb1 è contenuto in bb2 \n",
    "    second = (x12>=x21 && x12<=x22) && (y12>=y21 && y12<=y22) && (z12>=z21 && z12<=z22)\n",
    "\n",
    "    return first || second\n",
    "end"
   ]
  },
  {
   "cell_type": "code",
   "execution_count": null,
   "metadata": {},
   "outputs": [],
   "source": [
    "#testing delle intersezioni\n",
    "for j = 1:length(bb)\n",
    "    for i = 1:length(cover[j])\n",
    "        p1,p2,p3,p4 = buildPoints(bb[j])\n",
    "        p5,p6,p7,p8 = buildPoints(bb[cover[j][i]])\n",
    "        @test (hasIntersection(p1,bb[cover[j][i]]) || hasIntersection(p5,bb[j])\n",
    "            || hasIntersection(p2,bb[cover[j][i]]) || hasIntersection(p6,bb[j]) \n",
    "            || hasIntersection(p3,bb[cover[j][i]]) || hasIntersection(p7,bb[j]) \n",
    "            || hasIntersection(p4,bb[cover[j][i]]) || hasIntersection(p8,bb[j]) ) == true\n",
    "    end\n",
    "end"
   ]
  },
  {
   "cell_type": "code",
   "execution_count": null,
   "metadata": {},
   "outputs": [],
   "source": [
    "#testing delle non intersezioni\n",
    "for j = 1:length(bb)\n",
    "    noIntersection = setdiff((h for h = 1:length(FV)),cover[j])\t\t#tutti i bb che non intersecano il j-esimo bb\n",
    "    for i = 1:length(noIntersection)\n",
    "        if bb[j] != bb[noIntersection[i]]\n",
    "            p1,p2,p3,p4 = buildPoints(bb[j])\n",
    "            p5,p6,p7,p8 = buildPoints(bb[noIntersection[i]])\n",
    "            @test (hasIntersection(p1,bb[noIntersection[i]]) || hasIntersection(p5,bb[j])\n",
    "                || hasIntersection(p2,bb[noIntersection[i]]) || hasIntersection(p6,bb[j]) \n",
    "                || hasIntersection(p3,bb[noIntersection[i]]) || hasIntersection(p7,bb[j]) \n",
    "                || hasIntersection(p4,bb[noIntersection[i]]) || hasIntersection(p8,bb[j]) ) == false\n",
    "        end\n",
    "    end\n",
    "end"
   ]
  }
 ],
 "metadata": {
  "kernelspec": {
   "display_name": "Julia 1.5.2",
   "language": "julia",
   "name": "julia-1.5"
  },
  "language_info": {
   "file_extension": ".jl",
   "mimetype": "application/julia",
   "name": "julia",
   "version": "1.5.2"
  }
 },
 "nbformat": 4,
 "nbformat_minor": 4
}
